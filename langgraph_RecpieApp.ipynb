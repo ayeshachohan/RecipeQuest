{
  "nbformat": 4,
  "nbformat_minor": 0,
  "metadata": {
    "colab": {
      "provenance": []
    },
    "kernelspec": {
      "name": "python3",
      "display_name": "Python 3"
    },
    "language_info": {
      "name": "python"
    }
  },
  "cells": [
    {
      "cell_type": "markdown",
      "source": [
        "# **Installing Libraries**"
      ],
      "metadata": {
        "id": "E8ZZjwxBG3w0"
      }
    },
    {
      "cell_type": "code",
      "source": [
        "!pip install youtube-search\n"
      ],
      "metadata": {
        "colab": {
          "base_uri": "https://localhost:8080/"
        },
        "id": "JA-0QrtK0WxF",
        "outputId": "0cbc27e8-0156-4e55-93cc-ab4c0f1b94e0"
      },
      "execution_count": 2,
      "outputs": [
        {
          "output_type": "stream",
          "name": "stdout",
          "text": [
            "Collecting youtube-search\n",
            "  Downloading youtube_search-2.1.2-py3-none-any.whl (3.4 kB)\n",
            "Requirement already satisfied: requests in /usr/local/lib/python3.10/dist-packages (from youtube-search) (2.31.0)\n",
            "Requirement already satisfied: charset-normalizer<4,>=2 in /usr/local/lib/python3.10/dist-packages (from requests->youtube-search) (3.3.2)\n",
            "Requirement already satisfied: idna<4,>=2.5 in /usr/local/lib/python3.10/dist-packages (from requests->youtube-search) (3.7)\n",
            "Requirement already satisfied: urllib3<3,>=1.21.1 in /usr/local/lib/python3.10/dist-packages (from requests->youtube-search) (2.0.7)\n",
            "Requirement already satisfied: certifi>=2017.4.17 in /usr/local/lib/python3.10/dist-packages (from requests->youtube-search) (2024.7.4)\n",
            "Installing collected packages: youtube-search\n",
            "Successfully installed youtube-search-2.1.2\n"
          ]
        }
      ]
    },
    {
      "cell_type": "code",
      "source": [
        "try:\n",
        "    from youtube_search import YoutubeSearch\n",
        "    print(\"youtube_search module imported successfully.\")\n",
        "except ModuleNotFoundError:\n",
        "    print(\"youtube_search module is still missing.\")\n"
      ],
      "metadata": {
        "colab": {
          "base_uri": "https://localhost:8080/"
        },
        "id": "CZL-KY4U0dbJ",
        "outputId": "4f1e1aaf-1596-42d4-bd36-d84a11da93f4"
      },
      "execution_count": 3,
      "outputs": [
        {
          "output_type": "stream",
          "name": "stdout",
          "text": [
            "youtube_search module imported successfully.\n"
          ]
        }
      ]
    },
    {
      "cell_type": "code",
      "source": [
        "!pip install --upgrade langchain langchain_groq\n"
      ],
      "metadata": {
        "colab": {
          "base_uri": "https://localhost:8080/"
        },
        "id": "OjW3UDKaaRko",
        "outputId": "73075b78-275b-4278-8fc3-104e66a1363d"
      },
      "execution_count": 4,
      "outputs": [
        {
          "output_type": "stream",
          "name": "stdout",
          "text": [
            "Collecting langchain\n",
            "  Downloading langchain-0.2.7-py3-none-any.whl (983 kB)\n",
            "\u001b[2K     \u001b[90m━━━━━━━━━━━━━━━━━━━━━━━━━━━━━━━━━━━━━━━━\u001b[0m \u001b[32m983.6/983.6 kB\u001b[0m \u001b[31m3.6 MB/s\u001b[0m eta \u001b[36m0:00:00\u001b[0m\n",
            "\u001b[?25hCollecting langchain_groq\n",
            "  Downloading langchain_groq-0.1.6-py3-none-any.whl (14 kB)\n",
            "Requirement already satisfied: PyYAML>=5.3 in /usr/local/lib/python3.10/dist-packages (from langchain) (6.0.1)\n",
            "Requirement already satisfied: SQLAlchemy<3,>=1.4 in /usr/local/lib/python3.10/dist-packages (from langchain) (2.0.31)\n",
            "Requirement already satisfied: aiohttp<4.0.0,>=3.8.3 in /usr/local/lib/python3.10/dist-packages (from langchain) (3.9.5)\n",
            "Requirement already satisfied: async-timeout<5.0.0,>=4.0.0 in /usr/local/lib/python3.10/dist-packages (from langchain) (4.0.3)\n",
            "Collecting langchain-core<0.3.0,>=0.2.12 (from langchain)\n",
            "  Downloading langchain_core-0.2.18-py3-none-any.whl (366 kB)\n",
            "\u001b[2K     \u001b[90m━━━━━━━━━━━━━━━━━━━━━━━━━━━━━━━━━━━━━━━━\u001b[0m \u001b[32m366.3/366.3 kB\u001b[0m \u001b[31m7.4 MB/s\u001b[0m eta \u001b[36m0:00:00\u001b[0m\n",
            "\u001b[?25hCollecting langchain-text-splitters<0.3.0,>=0.2.0 (from langchain)\n",
            "  Downloading langchain_text_splitters-0.2.2-py3-none-any.whl (25 kB)\n",
            "Collecting langsmith<0.2.0,>=0.1.17 (from langchain)\n",
            "  Downloading langsmith-0.1.85-py3-none-any.whl (127 kB)\n",
            "\u001b[2K     \u001b[90m━━━━━━━━━━━━━━━━━━━━━━━━━━━━━━━━━━━━━━━━\u001b[0m \u001b[32m127.9/127.9 kB\u001b[0m \u001b[31m13.1 MB/s\u001b[0m eta \u001b[36m0:00:00\u001b[0m\n",
            "\u001b[?25hRequirement already satisfied: numpy<2,>=1 in /usr/local/lib/python3.10/dist-packages (from langchain) (1.25.2)\n",
            "Requirement already satisfied: pydantic<3,>=1 in /usr/local/lib/python3.10/dist-packages (from langchain) (2.8.2)\n",
            "Requirement already satisfied: requests<3,>=2 in /usr/local/lib/python3.10/dist-packages (from langchain) (2.31.0)\n",
            "Requirement already satisfied: tenacity!=8.4.0,<9.0.0,>=8.1.0 in /usr/local/lib/python3.10/dist-packages (from langchain) (8.5.0)\n",
            "Collecting groq<1,>=0.4.1 (from langchain_groq)\n",
            "  Downloading groq-0.9.0-py3-none-any.whl (103 kB)\n",
            "\u001b[2K     \u001b[90m━━━━━━━━━━━━━━━━━━━━━━━━━━━━━━━━━━━━━━━━\u001b[0m \u001b[32m103.5/103.5 kB\u001b[0m \u001b[31m8.4 MB/s\u001b[0m eta \u001b[36m0:00:00\u001b[0m\n",
            "\u001b[?25hRequirement already satisfied: aiosignal>=1.1.2 in /usr/local/lib/python3.10/dist-packages (from aiohttp<4.0.0,>=3.8.3->langchain) (1.3.1)\n",
            "Requirement already satisfied: attrs>=17.3.0 in /usr/local/lib/python3.10/dist-packages (from aiohttp<4.0.0,>=3.8.3->langchain) (23.2.0)\n",
            "Requirement already satisfied: frozenlist>=1.1.1 in /usr/local/lib/python3.10/dist-packages (from aiohttp<4.0.0,>=3.8.3->langchain) (1.4.1)\n",
            "Requirement already satisfied: multidict<7.0,>=4.5 in /usr/local/lib/python3.10/dist-packages (from aiohttp<4.0.0,>=3.8.3->langchain) (6.0.5)\n",
            "Requirement already satisfied: yarl<2.0,>=1.0 in /usr/local/lib/python3.10/dist-packages (from aiohttp<4.0.0,>=3.8.3->langchain) (1.9.4)\n",
            "Requirement already satisfied: anyio<5,>=3.5.0 in /usr/local/lib/python3.10/dist-packages (from groq<1,>=0.4.1->langchain_groq) (3.7.1)\n",
            "Requirement already satisfied: distro<2,>=1.7.0 in /usr/lib/python3/dist-packages (from groq<1,>=0.4.1->langchain_groq) (1.7.0)\n",
            "Collecting httpx<1,>=0.23.0 (from groq<1,>=0.4.1->langchain_groq)\n",
            "  Downloading httpx-0.27.0-py3-none-any.whl (75 kB)\n",
            "\u001b[2K     \u001b[90m━━━━━━━━━━━━━━━━━━━━━━━━━━━━━━━━━━━━━━━━\u001b[0m \u001b[32m75.6/75.6 kB\u001b[0m \u001b[31m8.1 MB/s\u001b[0m eta \u001b[36m0:00:00\u001b[0m\n",
            "\u001b[?25hRequirement already satisfied: sniffio in /usr/local/lib/python3.10/dist-packages (from groq<1,>=0.4.1->langchain_groq) (1.3.1)\n",
            "Requirement already satisfied: typing-extensions<5,>=4.7 in /usr/local/lib/python3.10/dist-packages (from groq<1,>=0.4.1->langchain_groq) (4.12.2)\n",
            "Collecting jsonpatch<2.0,>=1.33 (from langchain-core<0.3.0,>=0.2.12->langchain)\n",
            "  Downloading jsonpatch-1.33-py2.py3-none-any.whl (12 kB)\n",
            "Requirement already satisfied: packaging<25,>=23.2 in /usr/local/lib/python3.10/dist-packages (from langchain-core<0.3.0,>=0.2.12->langchain) (24.1)\n",
            "Collecting orjson<4.0.0,>=3.9.14 (from langsmith<0.2.0,>=0.1.17->langchain)\n",
            "  Downloading orjson-3.10.6-cp310-cp310-manylinux_2_17_x86_64.manylinux2014_x86_64.whl (141 kB)\n",
            "\u001b[2K     \u001b[90m━━━━━━━━━━━━━━━━━━━━━━━━━━━━━━━━━━━━━━━━\u001b[0m \u001b[32m141.1/141.1 kB\u001b[0m \u001b[31m9.1 MB/s\u001b[0m eta \u001b[36m0:00:00\u001b[0m\n",
            "\u001b[?25hRequirement already satisfied: annotated-types>=0.4.0 in /usr/local/lib/python3.10/dist-packages (from pydantic<3,>=1->langchain) (0.7.0)\n",
            "Requirement already satisfied: pydantic-core==2.20.1 in /usr/local/lib/python3.10/dist-packages (from pydantic<3,>=1->langchain) (2.20.1)\n",
            "Requirement already satisfied: charset-normalizer<4,>=2 in /usr/local/lib/python3.10/dist-packages (from requests<3,>=2->langchain) (3.3.2)\n",
            "Requirement already satisfied: idna<4,>=2.5 in /usr/local/lib/python3.10/dist-packages (from requests<3,>=2->langchain) (3.7)\n",
            "Requirement already satisfied: urllib3<3,>=1.21.1 in /usr/local/lib/python3.10/dist-packages (from requests<3,>=2->langchain) (2.0.7)\n",
            "Requirement already satisfied: certifi>=2017.4.17 in /usr/local/lib/python3.10/dist-packages (from requests<3,>=2->langchain) (2024.7.4)\n",
            "Requirement already satisfied: greenlet!=0.4.17 in /usr/local/lib/python3.10/dist-packages (from SQLAlchemy<3,>=1.4->langchain) (3.0.3)\n",
            "Requirement already satisfied: exceptiongroup in /usr/local/lib/python3.10/dist-packages (from anyio<5,>=3.5.0->groq<1,>=0.4.1->langchain_groq) (1.2.1)\n",
            "Collecting httpcore==1.* (from httpx<1,>=0.23.0->groq<1,>=0.4.1->langchain_groq)\n",
            "  Downloading httpcore-1.0.5-py3-none-any.whl (77 kB)\n",
            "\u001b[2K     \u001b[90m━━━━━━━━━━━━━━━━━━━━━━━━━━━━━━━━━━━━━━━━\u001b[0m \u001b[32m77.9/77.9 kB\u001b[0m \u001b[31m6.3 MB/s\u001b[0m eta \u001b[36m0:00:00\u001b[0m\n",
            "\u001b[?25hCollecting h11<0.15,>=0.13 (from httpcore==1.*->httpx<1,>=0.23.0->groq<1,>=0.4.1->langchain_groq)\n",
            "  Downloading h11-0.14.0-py3-none-any.whl (58 kB)\n",
            "\u001b[2K     \u001b[90m━━━━━━━━━━━━━━━━━━━━━━━━━━━━━━━━━━━━━━━━\u001b[0m \u001b[32m58.3/58.3 kB\u001b[0m \u001b[31m5.0 MB/s\u001b[0m eta \u001b[36m0:00:00\u001b[0m\n",
            "\u001b[?25hCollecting jsonpointer>=1.9 (from jsonpatch<2.0,>=1.33->langchain-core<0.3.0,>=0.2.12->langchain)\n",
            "  Downloading jsonpointer-3.0.0-py2.py3-none-any.whl (7.6 kB)\n",
            "Installing collected packages: orjson, jsonpointer, h11, jsonpatch, httpcore, langsmith, httpx, langchain-core, groq, langchain-text-splitters, langchain_groq, langchain\n",
            "Successfully installed groq-0.9.0 h11-0.14.0 httpcore-1.0.5 httpx-0.27.0 jsonpatch-1.33 jsonpointer-3.0.0 langchain-0.2.7 langchain-core-0.2.18 langchain-text-splitters-0.2.2 langchain_groq-0.1.6 langsmith-0.1.85 orjson-3.10.6\n"
          ]
        }
      ]
    },
    {
      "cell_type": "code",
      "source": [
        "!pip install --upgrade langchain langchain_groq\n"
      ],
      "metadata": {
        "colab": {
          "base_uri": "https://localhost:8080/"
        },
        "id": "m9zok1lqTfFo",
        "outputId": "29075241-7e70-4cdf-b4ca-470d66e02cdc"
      },
      "execution_count": 5,
      "outputs": [
        {
          "output_type": "stream",
          "name": "stdout",
          "text": [
            "Requirement already satisfied: langchain in /usr/local/lib/python3.10/dist-packages (0.2.7)\n",
            "Requirement already satisfied: langchain_groq in /usr/local/lib/python3.10/dist-packages (0.1.6)\n",
            "Requirement already satisfied: PyYAML>=5.3 in /usr/local/lib/python3.10/dist-packages (from langchain) (6.0.1)\n",
            "Requirement already satisfied: SQLAlchemy<3,>=1.4 in /usr/local/lib/python3.10/dist-packages (from langchain) (2.0.31)\n",
            "Requirement already satisfied: aiohttp<4.0.0,>=3.8.3 in /usr/local/lib/python3.10/dist-packages (from langchain) (3.9.5)\n",
            "Requirement already satisfied: async-timeout<5.0.0,>=4.0.0 in /usr/local/lib/python3.10/dist-packages (from langchain) (4.0.3)\n",
            "Requirement already satisfied: langchain-core<0.3.0,>=0.2.12 in /usr/local/lib/python3.10/dist-packages (from langchain) (0.2.18)\n",
            "Requirement already satisfied: langchain-text-splitters<0.3.0,>=0.2.0 in /usr/local/lib/python3.10/dist-packages (from langchain) (0.2.2)\n",
            "Requirement already satisfied: langsmith<0.2.0,>=0.1.17 in /usr/local/lib/python3.10/dist-packages (from langchain) (0.1.85)\n",
            "Requirement already satisfied: numpy<2,>=1 in /usr/local/lib/python3.10/dist-packages (from langchain) (1.25.2)\n",
            "Requirement already satisfied: pydantic<3,>=1 in /usr/local/lib/python3.10/dist-packages (from langchain) (2.8.2)\n",
            "Requirement already satisfied: requests<3,>=2 in /usr/local/lib/python3.10/dist-packages (from langchain) (2.31.0)\n",
            "Requirement already satisfied: tenacity!=8.4.0,<9.0.0,>=8.1.0 in /usr/local/lib/python3.10/dist-packages (from langchain) (8.5.0)\n",
            "Requirement already satisfied: groq<1,>=0.4.1 in /usr/local/lib/python3.10/dist-packages (from langchain_groq) (0.9.0)\n",
            "Requirement already satisfied: aiosignal>=1.1.2 in /usr/local/lib/python3.10/dist-packages (from aiohttp<4.0.0,>=3.8.3->langchain) (1.3.1)\n",
            "Requirement already satisfied: attrs>=17.3.0 in /usr/local/lib/python3.10/dist-packages (from aiohttp<4.0.0,>=3.8.3->langchain) (23.2.0)\n",
            "Requirement already satisfied: frozenlist>=1.1.1 in /usr/local/lib/python3.10/dist-packages (from aiohttp<4.0.0,>=3.8.3->langchain) (1.4.1)\n",
            "Requirement already satisfied: multidict<7.0,>=4.5 in /usr/local/lib/python3.10/dist-packages (from aiohttp<4.0.0,>=3.8.3->langchain) (6.0.5)\n",
            "Requirement already satisfied: yarl<2.0,>=1.0 in /usr/local/lib/python3.10/dist-packages (from aiohttp<4.0.0,>=3.8.3->langchain) (1.9.4)\n",
            "Requirement already satisfied: anyio<5,>=3.5.0 in /usr/local/lib/python3.10/dist-packages (from groq<1,>=0.4.1->langchain_groq) (3.7.1)\n",
            "Requirement already satisfied: distro<2,>=1.7.0 in /usr/lib/python3/dist-packages (from groq<1,>=0.4.1->langchain_groq) (1.7.0)\n",
            "Requirement already satisfied: httpx<1,>=0.23.0 in /usr/local/lib/python3.10/dist-packages (from groq<1,>=0.4.1->langchain_groq) (0.27.0)\n",
            "Requirement already satisfied: sniffio in /usr/local/lib/python3.10/dist-packages (from groq<1,>=0.4.1->langchain_groq) (1.3.1)\n",
            "Requirement already satisfied: typing-extensions<5,>=4.7 in /usr/local/lib/python3.10/dist-packages (from groq<1,>=0.4.1->langchain_groq) (4.12.2)\n",
            "Requirement already satisfied: jsonpatch<2.0,>=1.33 in /usr/local/lib/python3.10/dist-packages (from langchain-core<0.3.0,>=0.2.12->langchain) (1.33)\n",
            "Requirement already satisfied: packaging<25,>=23.2 in /usr/local/lib/python3.10/dist-packages (from langchain-core<0.3.0,>=0.2.12->langchain) (24.1)\n",
            "Requirement already satisfied: orjson<4.0.0,>=3.9.14 in /usr/local/lib/python3.10/dist-packages (from langsmith<0.2.0,>=0.1.17->langchain) (3.10.6)\n",
            "Requirement already satisfied: annotated-types>=0.4.0 in /usr/local/lib/python3.10/dist-packages (from pydantic<3,>=1->langchain) (0.7.0)\n",
            "Requirement already satisfied: pydantic-core==2.20.1 in /usr/local/lib/python3.10/dist-packages (from pydantic<3,>=1->langchain) (2.20.1)\n",
            "Requirement already satisfied: charset-normalizer<4,>=2 in /usr/local/lib/python3.10/dist-packages (from requests<3,>=2->langchain) (3.3.2)\n",
            "Requirement already satisfied: idna<4,>=2.5 in /usr/local/lib/python3.10/dist-packages (from requests<3,>=2->langchain) (3.7)\n",
            "Requirement already satisfied: urllib3<3,>=1.21.1 in /usr/local/lib/python3.10/dist-packages (from requests<3,>=2->langchain) (2.0.7)\n",
            "Requirement already satisfied: certifi>=2017.4.17 in /usr/local/lib/python3.10/dist-packages (from requests<3,>=2->langchain) (2024.7.4)\n",
            "Requirement already satisfied: greenlet!=0.4.17 in /usr/local/lib/python3.10/dist-packages (from SQLAlchemy<3,>=1.4->langchain) (3.0.3)\n",
            "Requirement already satisfied: exceptiongroup in /usr/local/lib/python3.10/dist-packages (from anyio<5,>=3.5.0->groq<1,>=0.4.1->langchain_groq) (1.2.1)\n",
            "Requirement already satisfied: httpcore==1.* in /usr/local/lib/python3.10/dist-packages (from httpx<1,>=0.23.0->groq<1,>=0.4.1->langchain_groq) (1.0.5)\n",
            "Requirement already satisfied: h11<0.15,>=0.13 in /usr/local/lib/python3.10/dist-packages (from httpcore==1.*->httpx<1,>=0.23.0->groq<1,>=0.4.1->langchain_groq) (0.14.0)\n",
            "Requirement already satisfied: jsonpointer>=1.9 in /usr/local/lib/python3.10/dist-packages (from jsonpatch<2.0,>=1.33->langchain-core<0.3.0,>=0.2.12->langchain) (3.0.0)\n"
          ]
        }
      ]
    },
    {
      "cell_type": "code",
      "source": [
        "!pip install --upgrade langchain"
      ],
      "metadata": {
        "colab": {
          "base_uri": "https://localhost:8080/"
        },
        "id": "wmnAVshHOR-F",
        "outputId": "faf0f383-d079-4a56-aec6-6613d88ae03b"
      },
      "execution_count": 6,
      "outputs": [
        {
          "output_type": "stream",
          "name": "stdout",
          "text": [
            "Requirement already satisfied: langchain in /usr/local/lib/python3.10/dist-packages (0.2.7)\n",
            "Requirement already satisfied: PyYAML>=5.3 in /usr/local/lib/python3.10/dist-packages (from langchain) (6.0.1)\n",
            "Requirement already satisfied: SQLAlchemy<3,>=1.4 in /usr/local/lib/python3.10/dist-packages (from langchain) (2.0.31)\n",
            "Requirement already satisfied: aiohttp<4.0.0,>=3.8.3 in /usr/local/lib/python3.10/dist-packages (from langchain) (3.9.5)\n",
            "Requirement already satisfied: async-timeout<5.0.0,>=4.0.0 in /usr/local/lib/python3.10/dist-packages (from langchain) (4.0.3)\n",
            "Requirement already satisfied: langchain-core<0.3.0,>=0.2.12 in /usr/local/lib/python3.10/dist-packages (from langchain) (0.2.18)\n",
            "Requirement already satisfied: langchain-text-splitters<0.3.0,>=0.2.0 in /usr/local/lib/python3.10/dist-packages (from langchain) (0.2.2)\n",
            "Requirement already satisfied: langsmith<0.2.0,>=0.1.17 in /usr/local/lib/python3.10/dist-packages (from langchain) (0.1.85)\n",
            "Requirement already satisfied: numpy<2,>=1 in /usr/local/lib/python3.10/dist-packages (from langchain) (1.25.2)\n",
            "Requirement already satisfied: pydantic<3,>=1 in /usr/local/lib/python3.10/dist-packages (from langchain) (2.8.2)\n",
            "Requirement already satisfied: requests<3,>=2 in /usr/local/lib/python3.10/dist-packages (from langchain) (2.31.0)\n",
            "Requirement already satisfied: tenacity!=8.4.0,<9.0.0,>=8.1.0 in /usr/local/lib/python3.10/dist-packages (from langchain) (8.5.0)\n",
            "Requirement already satisfied: aiosignal>=1.1.2 in /usr/local/lib/python3.10/dist-packages (from aiohttp<4.0.0,>=3.8.3->langchain) (1.3.1)\n",
            "Requirement already satisfied: attrs>=17.3.0 in /usr/local/lib/python3.10/dist-packages (from aiohttp<4.0.0,>=3.8.3->langchain) (23.2.0)\n",
            "Requirement already satisfied: frozenlist>=1.1.1 in /usr/local/lib/python3.10/dist-packages (from aiohttp<4.0.0,>=3.8.3->langchain) (1.4.1)\n",
            "Requirement already satisfied: multidict<7.0,>=4.5 in /usr/local/lib/python3.10/dist-packages (from aiohttp<4.0.0,>=3.8.3->langchain) (6.0.5)\n",
            "Requirement already satisfied: yarl<2.0,>=1.0 in /usr/local/lib/python3.10/dist-packages (from aiohttp<4.0.0,>=3.8.3->langchain) (1.9.4)\n",
            "Requirement already satisfied: jsonpatch<2.0,>=1.33 in /usr/local/lib/python3.10/dist-packages (from langchain-core<0.3.0,>=0.2.12->langchain) (1.33)\n",
            "Requirement already satisfied: packaging<25,>=23.2 in /usr/local/lib/python3.10/dist-packages (from langchain-core<0.3.0,>=0.2.12->langchain) (24.1)\n",
            "Requirement already satisfied: orjson<4.0.0,>=3.9.14 in /usr/local/lib/python3.10/dist-packages (from langsmith<0.2.0,>=0.1.17->langchain) (3.10.6)\n",
            "Requirement already satisfied: annotated-types>=0.4.0 in /usr/local/lib/python3.10/dist-packages (from pydantic<3,>=1->langchain) (0.7.0)\n",
            "Requirement already satisfied: pydantic-core==2.20.1 in /usr/local/lib/python3.10/dist-packages (from pydantic<3,>=1->langchain) (2.20.1)\n",
            "Requirement already satisfied: typing-extensions>=4.6.1 in /usr/local/lib/python3.10/dist-packages (from pydantic<3,>=1->langchain) (4.12.2)\n",
            "Requirement already satisfied: charset-normalizer<4,>=2 in /usr/local/lib/python3.10/dist-packages (from requests<3,>=2->langchain) (3.3.2)\n",
            "Requirement already satisfied: idna<4,>=2.5 in /usr/local/lib/python3.10/dist-packages (from requests<3,>=2->langchain) (3.7)\n",
            "Requirement already satisfied: urllib3<3,>=1.21.1 in /usr/local/lib/python3.10/dist-packages (from requests<3,>=2->langchain) (2.0.7)\n",
            "Requirement already satisfied: certifi>=2017.4.17 in /usr/local/lib/python3.10/dist-packages (from requests<3,>=2->langchain) (2024.7.4)\n",
            "Requirement already satisfied: greenlet!=0.4.17 in /usr/local/lib/python3.10/dist-packages (from SQLAlchemy<3,>=1.4->langchain) (3.0.3)\n",
            "Requirement already satisfied: jsonpointer>=1.9 in /usr/local/lib/python3.10/dist-packages (from jsonpatch<2.0,>=1.33->langchain-core<0.3.0,>=0.2.12->langchain) (3.0.0)\n"
          ]
        }
      ]
    },
    {
      "cell_type": "code",
      "source": [
        "!pip -q install langchain-groq duckduckgo-search\n",
        "!pip -q install -U langchain_community tiktoken langchainhub\n"
      ],
      "metadata": {
        "id": "0FDPgaevdeNQ",
        "colab": {
          "base_uri": "https://localhost:8080/"
        },
        "outputId": "27784c91-4385-49c0-b24d-ae2a7786b349"
      },
      "execution_count": 7,
      "outputs": [
        {
          "output_type": "stream",
          "name": "stdout",
          "text": [
            "\u001b[2K     \u001b[90m━━━━━━━━━━━━━━━━━━━━━━━━━━━━━━━━━━━━━━━━\u001b[0m \u001b[32m2.7/2.7 MB\u001b[0m \u001b[31m24.5 MB/s\u001b[0m eta \u001b[36m0:00:00\u001b[0m\n",
            "\u001b[2K     \u001b[90m━━━━━━━━━━━━━━━━━━━━━━━━━━━━━━━━━━━━━━━━\u001b[0m \u001b[32m2.2/2.2 MB\u001b[0m \u001b[31m22.3 MB/s\u001b[0m eta \u001b[36m0:00:00\u001b[0m\n",
            "\u001b[2K     \u001b[90m━━━━━━━━━━━━━━━━━━━━━━━━━━━━━━━━━━━━━━━━\u001b[0m \u001b[32m1.1/1.1 MB\u001b[0m \u001b[31m53.9 MB/s\u001b[0m eta \u001b[36m0:00:00\u001b[0m\n",
            "\u001b[2K     \u001b[90m━━━━━━━━━━━━━━━━━━━━━━━━━━━━━━━━━━━━━━━━\u001b[0m \u001b[32m49.2/49.2 kB\u001b[0m \u001b[31m5.1 MB/s\u001b[0m eta \u001b[36m0:00:00\u001b[0m\n",
            "\u001b[2K     \u001b[90m━━━━━━━━━━━━━━━━━━━━━━━━━━━━━━━━━━━━━━━━\u001b[0m \u001b[32m91.4/91.4 kB\u001b[0m \u001b[31m2.1 MB/s\u001b[0m eta \u001b[36m0:00:00\u001b[0m\n",
            "\u001b[?25h"
          ]
        }
      ]
    },
    {
      "cell_type": "code",
      "execution_count": 8,
      "metadata": {
        "colab": {
          "base_uri": "https://localhost:8080/"
        },
        "id": "eAI6gt0Suu0r",
        "outputId": "a4cbd8dd-b502-4263-c289-bb22d7966eb7"
      },
      "outputs": [
        {
          "output_type": "stream",
          "name": "stdout",
          "text": [
            "Requirement already satisfied: langchain in /usr/local/lib/python3.10/dist-packages (0.2.7)\n",
            "Requirement already satisfied: PyYAML>=5.3 in /usr/local/lib/python3.10/dist-packages (from langchain) (6.0.1)\n",
            "Requirement already satisfied: SQLAlchemy<3,>=1.4 in /usr/local/lib/python3.10/dist-packages (from langchain) (2.0.31)\n",
            "Requirement already satisfied: aiohttp<4.0.0,>=3.8.3 in /usr/local/lib/python3.10/dist-packages (from langchain) (3.9.5)\n",
            "Requirement already satisfied: async-timeout<5.0.0,>=4.0.0 in /usr/local/lib/python3.10/dist-packages (from langchain) (4.0.3)\n",
            "Requirement already satisfied: langchain-core<0.3.0,>=0.2.12 in /usr/local/lib/python3.10/dist-packages (from langchain) (0.2.18)\n",
            "Requirement already satisfied: langchain-text-splitters<0.3.0,>=0.2.0 in /usr/local/lib/python3.10/dist-packages (from langchain) (0.2.2)\n",
            "Requirement already satisfied: langsmith<0.2.0,>=0.1.17 in /usr/local/lib/python3.10/dist-packages (from langchain) (0.1.85)\n",
            "Requirement already satisfied: numpy<2,>=1 in /usr/local/lib/python3.10/dist-packages (from langchain) (1.25.2)\n",
            "Requirement already satisfied: pydantic<3,>=1 in /usr/local/lib/python3.10/dist-packages (from langchain) (2.8.2)\n",
            "Requirement already satisfied: requests<3,>=2 in /usr/local/lib/python3.10/dist-packages (from langchain) (2.31.0)\n",
            "Requirement already satisfied: tenacity!=8.4.0,<9.0.0,>=8.1.0 in /usr/local/lib/python3.10/dist-packages (from langchain) (8.5.0)\n",
            "Requirement already satisfied: aiosignal>=1.1.2 in /usr/local/lib/python3.10/dist-packages (from aiohttp<4.0.0,>=3.8.3->langchain) (1.3.1)\n",
            "Requirement already satisfied: attrs>=17.3.0 in /usr/local/lib/python3.10/dist-packages (from aiohttp<4.0.0,>=3.8.3->langchain) (23.2.0)\n",
            "Requirement already satisfied: frozenlist>=1.1.1 in /usr/local/lib/python3.10/dist-packages (from aiohttp<4.0.0,>=3.8.3->langchain) (1.4.1)\n",
            "Requirement already satisfied: multidict<7.0,>=4.5 in /usr/local/lib/python3.10/dist-packages (from aiohttp<4.0.0,>=3.8.3->langchain) (6.0.5)\n",
            "Requirement already satisfied: yarl<2.0,>=1.0 in /usr/local/lib/python3.10/dist-packages (from aiohttp<4.0.0,>=3.8.3->langchain) (1.9.4)\n",
            "Requirement already satisfied: jsonpatch<2.0,>=1.33 in /usr/local/lib/python3.10/dist-packages (from langchain-core<0.3.0,>=0.2.12->langchain) (1.33)\n",
            "Requirement already satisfied: packaging<25,>=23.2 in /usr/local/lib/python3.10/dist-packages (from langchain-core<0.3.0,>=0.2.12->langchain) (24.1)\n",
            "Requirement already satisfied: orjson<4.0.0,>=3.9.14 in /usr/local/lib/python3.10/dist-packages (from langsmith<0.2.0,>=0.1.17->langchain) (3.10.6)\n",
            "Requirement already satisfied: annotated-types>=0.4.0 in /usr/local/lib/python3.10/dist-packages (from pydantic<3,>=1->langchain) (0.7.0)\n",
            "Requirement already satisfied: pydantic-core==2.20.1 in /usr/local/lib/python3.10/dist-packages (from pydantic<3,>=1->langchain) (2.20.1)\n",
            "Requirement already satisfied: typing-extensions>=4.6.1 in /usr/local/lib/python3.10/dist-packages (from pydantic<3,>=1->langchain) (4.12.2)\n",
            "Requirement already satisfied: charset-normalizer<4,>=2 in /usr/local/lib/python3.10/dist-packages (from requests<3,>=2->langchain) (3.3.2)\n",
            "Requirement already satisfied: idna<4,>=2.5 in /usr/local/lib/python3.10/dist-packages (from requests<3,>=2->langchain) (3.7)\n",
            "Requirement already satisfied: urllib3<3,>=1.21.1 in /usr/local/lib/python3.10/dist-packages (from requests<3,>=2->langchain) (2.0.7)\n",
            "Requirement already satisfied: certifi>=2017.4.17 in /usr/local/lib/python3.10/dist-packages (from requests<3,>=2->langchain) (2024.7.4)\n",
            "Requirement already satisfied: greenlet!=0.4.17 in /usr/local/lib/python3.10/dist-packages (from SQLAlchemy<3,>=1.4->langchain) (3.0.3)\n",
            "Requirement already satisfied: jsonpointer>=1.9 in /usr/local/lib/python3.10/dist-packages (from jsonpatch<2.0,>=1.33->langchain-core<0.3.0,>=0.2.12->langchain) (3.0.0)\n"
          ]
        }
      ],
      "source": [
        "!pip install langchain"
      ]
    },
    {
      "cell_type": "code",
      "source": [
        "!pip -q install langchain openai\n",
        "!pip -q install duckduckgo-search"
      ],
      "metadata": {
        "id": "7SiLfhiiu3Yj",
        "colab": {
          "base_uri": "https://localhost:8080/"
        },
        "outputId": "f58088b5-54b1-4870-d950-f499a4eaf296"
      },
      "execution_count": 9,
      "outputs": [
        {
          "output_type": "stream",
          "name": "stdout",
          "text": [
            "\u001b[?25l     \u001b[90m━━━━━━━━━━━━━━━━━━━━━━━━━━━━━━━━━━━━━━━━\u001b[0m \u001b[32m0.0/328.5 kB\u001b[0m \u001b[31m?\u001b[0m eta \u001b[36m-:--:--\u001b[0m\r\u001b[2K     \u001b[91m━━━━\u001b[0m\u001b[91m╸\u001b[0m\u001b[90m━━━━━━━━━━━━━━━━━━━━━━━━━━━━━━━━━━━\u001b[0m \u001b[32m41.0/328.5 kB\u001b[0m \u001b[31m947.2 kB/s\u001b[0m eta \u001b[36m0:00:01\u001b[0m\r\u001b[2K     \u001b[91m━━━━━━━━━━━━━━━━━━━━━━━━━━━━━━━━━━\u001b[0m\u001b[91m╸\u001b[0m\u001b[90m━━━━━\u001b[0m \u001b[32m286.7/328.5 kB\u001b[0m \u001b[31m4.0 MB/s\u001b[0m eta \u001b[36m0:00:01\u001b[0m\r\u001b[2K     \u001b[90m━━━━━━━━━━━━━━━━━━━━━━━━━━━━━━━━━━━━━━━━\u001b[0m \u001b[32m328.5/328.5 kB\u001b[0m \u001b[31m3.7 MB/s\u001b[0m eta \u001b[36m0:00:00\u001b[0m\n",
            "\u001b[?25h"
          ]
        }
      ]
    },
    {
      "cell_type": "code",
      "source": [
        "!pip install --upgrade langchain\n",
        "!pip install --upgrade langchain-core\n"
      ],
      "metadata": {
        "colab": {
          "base_uri": "https://localhost:8080/"
        },
        "id": "_9PyOaN3vTgG",
        "outputId": "68811720-ba04-432d-c480-ef0e53cf4c5b"
      },
      "execution_count": 10,
      "outputs": [
        {
          "output_type": "stream",
          "name": "stdout",
          "text": [
            "Requirement already satisfied: langchain in /usr/local/lib/python3.10/dist-packages (0.2.7)\n",
            "Requirement already satisfied: PyYAML>=5.3 in /usr/local/lib/python3.10/dist-packages (from langchain) (6.0.1)\n",
            "Requirement already satisfied: SQLAlchemy<3,>=1.4 in /usr/local/lib/python3.10/dist-packages (from langchain) (2.0.31)\n",
            "Requirement already satisfied: aiohttp<4.0.0,>=3.8.3 in /usr/local/lib/python3.10/dist-packages (from langchain) (3.9.5)\n",
            "Requirement already satisfied: async-timeout<5.0.0,>=4.0.0 in /usr/local/lib/python3.10/dist-packages (from langchain) (4.0.3)\n",
            "Requirement already satisfied: langchain-core<0.3.0,>=0.2.12 in /usr/local/lib/python3.10/dist-packages (from langchain) (0.2.18)\n",
            "Requirement already satisfied: langchain-text-splitters<0.3.0,>=0.2.0 in /usr/local/lib/python3.10/dist-packages (from langchain) (0.2.2)\n",
            "Requirement already satisfied: langsmith<0.2.0,>=0.1.17 in /usr/local/lib/python3.10/dist-packages (from langchain) (0.1.85)\n",
            "Requirement already satisfied: numpy<2,>=1 in /usr/local/lib/python3.10/dist-packages (from langchain) (1.25.2)\n",
            "Requirement already satisfied: pydantic<3,>=1 in /usr/local/lib/python3.10/dist-packages (from langchain) (2.8.2)\n",
            "Requirement already satisfied: requests<3,>=2 in /usr/local/lib/python3.10/dist-packages (from langchain) (2.31.0)\n",
            "Requirement already satisfied: tenacity!=8.4.0,<9.0.0,>=8.1.0 in /usr/local/lib/python3.10/dist-packages (from langchain) (8.5.0)\n",
            "Requirement already satisfied: aiosignal>=1.1.2 in /usr/local/lib/python3.10/dist-packages (from aiohttp<4.0.0,>=3.8.3->langchain) (1.3.1)\n",
            "Requirement already satisfied: attrs>=17.3.0 in /usr/local/lib/python3.10/dist-packages (from aiohttp<4.0.0,>=3.8.3->langchain) (23.2.0)\n",
            "Requirement already satisfied: frozenlist>=1.1.1 in /usr/local/lib/python3.10/dist-packages (from aiohttp<4.0.0,>=3.8.3->langchain) (1.4.1)\n",
            "Requirement already satisfied: multidict<7.0,>=4.5 in /usr/local/lib/python3.10/dist-packages (from aiohttp<4.0.0,>=3.8.3->langchain) (6.0.5)\n",
            "Requirement already satisfied: yarl<2.0,>=1.0 in /usr/local/lib/python3.10/dist-packages (from aiohttp<4.0.0,>=3.8.3->langchain) (1.9.4)\n",
            "Requirement already satisfied: jsonpatch<2.0,>=1.33 in /usr/local/lib/python3.10/dist-packages (from langchain-core<0.3.0,>=0.2.12->langchain) (1.33)\n",
            "Requirement already satisfied: packaging<25,>=23.2 in /usr/local/lib/python3.10/dist-packages (from langchain-core<0.3.0,>=0.2.12->langchain) (24.1)\n",
            "Requirement already satisfied: orjson<4.0.0,>=3.9.14 in /usr/local/lib/python3.10/dist-packages (from langsmith<0.2.0,>=0.1.17->langchain) (3.10.6)\n",
            "Requirement already satisfied: annotated-types>=0.4.0 in /usr/local/lib/python3.10/dist-packages (from pydantic<3,>=1->langchain) (0.7.0)\n",
            "Requirement already satisfied: pydantic-core==2.20.1 in /usr/local/lib/python3.10/dist-packages (from pydantic<3,>=1->langchain) (2.20.1)\n",
            "Requirement already satisfied: typing-extensions>=4.6.1 in /usr/local/lib/python3.10/dist-packages (from pydantic<3,>=1->langchain) (4.12.2)\n",
            "Requirement already satisfied: charset-normalizer<4,>=2 in /usr/local/lib/python3.10/dist-packages (from requests<3,>=2->langchain) (3.3.2)\n",
            "Requirement already satisfied: idna<4,>=2.5 in /usr/local/lib/python3.10/dist-packages (from requests<3,>=2->langchain) (3.7)\n",
            "Requirement already satisfied: urllib3<3,>=1.21.1 in /usr/local/lib/python3.10/dist-packages (from requests<3,>=2->langchain) (2.0.7)\n",
            "Requirement already satisfied: certifi>=2017.4.17 in /usr/local/lib/python3.10/dist-packages (from requests<3,>=2->langchain) (2024.7.4)\n",
            "Requirement already satisfied: greenlet!=0.4.17 in /usr/local/lib/python3.10/dist-packages (from SQLAlchemy<3,>=1.4->langchain) (3.0.3)\n",
            "Requirement already satisfied: jsonpointer>=1.9 in /usr/local/lib/python3.10/dist-packages (from jsonpatch<2.0,>=1.33->langchain-core<0.3.0,>=0.2.12->langchain) (3.0.0)\n",
            "Requirement already satisfied: langchain-core in /usr/local/lib/python3.10/dist-packages (0.2.18)\n",
            "Requirement already satisfied: PyYAML>=5.3 in /usr/local/lib/python3.10/dist-packages (from langchain-core) (6.0.1)\n",
            "Requirement already satisfied: jsonpatch<2.0,>=1.33 in /usr/local/lib/python3.10/dist-packages (from langchain-core) (1.33)\n",
            "Requirement already satisfied: langsmith<0.2.0,>=0.1.75 in /usr/local/lib/python3.10/dist-packages (from langchain-core) (0.1.85)\n",
            "Requirement already satisfied: packaging<25,>=23.2 in /usr/local/lib/python3.10/dist-packages (from langchain-core) (24.1)\n",
            "Requirement already satisfied: pydantic<3,>=1 in /usr/local/lib/python3.10/dist-packages (from langchain-core) (2.8.2)\n",
            "Requirement already satisfied: tenacity!=8.4.0,<9.0.0,>=8.1.0 in /usr/local/lib/python3.10/dist-packages (from langchain-core) (8.5.0)\n",
            "Requirement already satisfied: jsonpointer>=1.9 in /usr/local/lib/python3.10/dist-packages (from jsonpatch<2.0,>=1.33->langchain-core) (3.0.0)\n",
            "Requirement already satisfied: orjson<4.0.0,>=3.9.14 in /usr/local/lib/python3.10/dist-packages (from langsmith<0.2.0,>=0.1.75->langchain-core) (3.10.6)\n",
            "Requirement already satisfied: requests<3,>=2 in /usr/local/lib/python3.10/dist-packages (from langsmith<0.2.0,>=0.1.75->langchain-core) (2.31.0)\n",
            "Requirement already satisfied: annotated-types>=0.4.0 in /usr/local/lib/python3.10/dist-packages (from pydantic<3,>=1->langchain-core) (0.7.0)\n",
            "Requirement already satisfied: pydantic-core==2.20.1 in /usr/local/lib/python3.10/dist-packages (from pydantic<3,>=1->langchain-core) (2.20.1)\n",
            "Requirement already satisfied: typing-extensions>=4.6.1 in /usr/local/lib/python3.10/dist-packages (from pydantic<3,>=1->langchain-core) (4.12.2)\n",
            "Requirement already satisfied: charset-normalizer<4,>=2 in /usr/local/lib/python3.10/dist-packages (from requests<3,>=2->langsmith<0.2.0,>=0.1.75->langchain-core) (3.3.2)\n",
            "Requirement already satisfied: idna<4,>=2.5 in /usr/local/lib/python3.10/dist-packages (from requests<3,>=2->langsmith<0.2.0,>=0.1.75->langchain-core) (3.7)\n",
            "Requirement already satisfied: urllib3<3,>=1.21.1 in /usr/local/lib/python3.10/dist-packages (from requests<3,>=2->langsmith<0.2.0,>=0.1.75->langchain-core) (2.0.7)\n",
            "Requirement already satisfied: certifi>=2017.4.17 in /usr/local/lib/python3.10/dist-packages (from requests<3,>=2->langsmith<0.2.0,>=0.1.75->langchain-core) (2024.7.4)\n"
          ]
        }
      ]
    },
    {
      "cell_type": "markdown",
      "source": [
        "# **Imporing Libraries**"
      ],
      "metadata": {
        "id": "agzIqyqoG8PV"
      }
    },
    {
      "cell_type": "code",
      "source": [
        "from getpass import getpass\n",
        "import os\n",
        "\n",
        "\n",
        "# Prompt for the GROQ API key\n",
        "GROQ_API_KEY = getpass(\"Enter your GROQ API key: \")\n",
        "\n",
        "\n",
        "os.environ[\"GROQ_API_KEY\"] = GROQ_API_KEY\n",
        "\n",
        "print(\"GROQ_API_KEY is set.\")\n"
      ],
      "metadata": {
        "colab": {
          "base_uri": "https://localhost:8080/"
        },
        "id": "TRq1GjWyKRml",
        "outputId": "121873b5-9f09-494d-bb82-b53069e1c799"
      },
      "execution_count": 11,
      "outputs": [
        {
          "output_type": "stream",
          "name": "stdout",
          "text": [
            "Enter your GROQ API key: ··········\n",
            "GROQ_API_KEY is set.\n"
          ]
        }
      ]
    },
    {
      "cell_type": "code",
      "source": [
        "import os\n",
        "from getpass import getpass\n",
        "\n",
        "# Prompt for the LangChain API key\n",
        "LANGCHAIN_API_KEY = getpass(\"Enter your LangChain API key: \")\n",
        "\n",
        "# Set the environment variable\n",
        "os.environ[\"LANGCHAIN_API_KEY\"] = LANGCHAIN_API_KEY\n",
        "\n",
        "# Verify the environment variable is set\n",
        "print(\"LANGCHAIN_API_KEY is set.\")\n"
      ],
      "metadata": {
        "colab": {
          "base_uri": "https://localhost:8080/"
        },
        "id": "0XzGMdI7J2_-",
        "outputId": "8aada6f2-c49a-4fff-a7a4-3e5e48d522b1"
      },
      "execution_count": 12,
      "outputs": [
        {
          "output_type": "stream",
          "name": "stdout",
          "text": [
            "Enter your LangChain API key: ··········\n",
            "LANGCHAIN_API_KEY is set.\n"
          ]
        }
      ]
    },
    {
      "cell_type": "markdown",
      "source": [
        "# **Testing Api**"
      ],
      "metadata": {
        "id": "rO_vy6BXHD7Q"
      }
    },
    {
      "cell_type": "code",
      "source": [
        "import requests\n",
        "\n",
        "def get_meal_details(meal_name):\n",
        "    api_url = f\"https://www.themealdb.com/api/json/v1/1/search.php?s={meal_name}\"\n",
        "    response = requests.get(api_url)\n",
        "\n",
        "    if response.status_code == 200:\n",
        "        data = response.json()\n",
        "        meals = data.get('meals')\n",
        "        if meals:\n",
        "            meal = meals[0]\n",
        "            meal_details = {\n",
        "                'name': meal.get('strMeal'),\n",
        "                'category': meal.get('strCategory'),\n",
        "                'cuisine': meal.get('strArea'),\n",
        "                'instructions': meal.get('strInstructions'),\n",
        "                'ingredients': [],\n",
        "                'image': meal.get('strMealThumb')\n",
        "            }\n",
        "\n",
        "            # Collect ingredients and measurements\n",
        "            for i in range(1, 21):\n",
        "                ingredient = meal.get(f'strIngredient{i}')\n",
        "                measurement = meal.get(f'strMeasure{i}')\n",
        "                if ingredient and ingredient.strip():\n",
        "                    meal_details['ingredients'].append(f\"{measurement} {ingredient}\".strip())\n",
        "\n",
        "            return meal_details\n",
        "        else:\n",
        "            return {\"error\": \"Meal not found\"}\n",
        "    else:\n",
        "        return {\"error\": \"Failed to fetch data\"}\n",
        "\n",
        "# Example usage\n",
        "meal_name = input(\"Enter the meal name: \")\n",
        "details = get_meal_details(meal_name)\n",
        "if 'error' in details:\n",
        "    print(details['error'])\n",
        "else:\n",
        "    print(f\"Name: {details['name']}\")\n",
        "    print(f\"Category: {details['category']}\")\n",
        "    print(f\"Cuisine: {details['cuisine']}\")\n",
        "    print(\"Ingredients:\")\n",
        "    for ingredient in details['ingredients']:\n",
        "        print(f\" - {ingredient}\")\n",
        "    print(f\"Instructions: {details['instructions']}\")\n",
        "    print(f\"Image URL: {details['image']}\")\n"
      ],
      "metadata": {
        "colab": {
          "base_uri": "https://localhost:8080/"
        },
        "id": "Adk5B0VJGuXj",
        "outputId": "e3e2a589-9abf-434a-d550-f599e2fb104a"
      },
      "execution_count": 13,
      "outputs": [
        {
          "output_type": "stream",
          "name": "stdout",
          "text": [
            "Enter the meal name: biryani\n",
            "Name: Lamb Biryani\n",
            "Category: Lamb\n",
            "Cuisine: Indian\n",
            "Ingredients:\n",
            " - 12 Cashew nuts\n",
            " - ½ tbsp Khus khus\n",
            " - ½ tbsp Cumin seeds\n",
            " - 3 sliced thinly Onions\n",
            " - 2 tsp Ginger garlic paste\n",
            " - 4 whole Garlic\n",
            " - Leaves Mint\n",
            " - Leaves Cilantro\n",
            " - ½ tsp dissolved in ½ cup warm milk Saffron\n",
            " - 2 tbsp Ghee\n",
            " - 2 Cups Basmati rice\n",
            " - ½ cup Full fat yogurt\n",
            " - 1 tbsp Cumin Seeds\n",
            " - ½ Bay leaf\n",
            " - 1 thin piece Cinnamon\n",
            " - 3 Cloves\n",
            " - 2 Cardamom\n",
            " - 1 lb Lamb\n",
            " - 1 tsp Red Chilli powder\n",
            " - 1 tbsp Biryani masala\n",
            "Instructions: Grind the cashew, poppy seeds and cumin seeds into a smooth paste, using as little water as possible. Set aside. \n",
            "\n",
            "Deep fry the sliced onions when it is hot. Don’t overcrowd the oil. When the onions turn light brown, remove from oil and drain on paper towel. The fried onion will crisp up as it drains. Also fry the cashewnuts till golden brown. Set aside.\n",
            "\n",
            "Wash the rice and soak in water for twenty minutes.\n",
            "Meanwhile, take a big wide pan, add oil in medium heat, add the sliced onions, add the blended paste, to it add the green chillies, ginger garlic paste and garlic and fry for a minute.\n",
            "Then add the tomatoes and sauté them well till they are cooked and not mushy.\n",
            "\n",
            "Then to it add the red chilli powder, biryani powder, mint, coriander leaves and sauté them well.\n",
            "Add the yogurt and mix well. I always move the skillet away from the heat when adding yogurt which prevents it from curdling.\n",
            "\n",
            "Now after returning the skillet back to the stove, add the washed lamb and salt and ½ cup water and mix well. Cook for 1 hour and cook it covered in medium low heat or put it in a pressure cooker for 6 whistles. If the water is not drained totally, heat it by keeping it open.\n",
            "\n",
            "Take another big pan, add thrice the cup of rice you use, and boil it. When it is boiling high, add the rice, salt and jeera and mix well. After 7 minutes exact or when the rice is 80% done. Switch off and drain the rice.\n",
            "\n",
            "Now, the layering starts. To the lamb, pat and level it. Add the drained hot rice on the top of it. Garnish with fried onions, ghee, mint, coriander leaves and saffron dissolved in milk.\n",
            "\n",
            "Cover the dish and bake in a 350f oven for 15 minutes or till the cooked but not mushy. Or cook in the stove medium heat for 12 minutes and lowest heat for 5 minutes. And switch off. Mix and serve hot!\n",
            "Notes\n",
            "1. If you are cooking in oven, do make sure to cook in a big oven safe pan and cover it tight and then keep in oven for the final step.\n",
            "2. You can skip biryani masala if you don’t have and add just garam masala (1 tsp and red chilli powder – 3 tsp instead of 1 tsp)\n",
            "3. If it is spicy in the end, squeeze some lemon, it will reduce the heat and enhance the flavors also.\n",
            "Image URL: https://www.themealdb.com/images/media/meals/xrttsx1487339558.jpg\n"
          ]
        }
      ]
    },
    {
      "cell_type": "markdown",
      "source": [
        "# **Loading Model**"
      ],
      "metadata": {
        "id": "md5CclWgKoiY"
      }
    },
    {
      "cell_type": "code",
      "source": [
        "from langchain_groq import ChatGroq\n",
        "\n",
        "# Initialize the Groq LLM\n",
        "llm = ChatGroq(model=\"llama3-70b-8192\")\n"
      ],
      "metadata": {
        "id": "0fgh2SIMQsVn"
      },
      "execution_count": 14,
      "outputs": []
    },
    {
      "cell_type": "markdown",
      "source": [
        "# **Custom Tool**"
      ],
      "metadata": {
        "id": "3A83a97LHfL2"
      }
    },
    {
      "cell_type": "code",
      "source": [
        "import langchain\n",
        "langchain.verbose = False\n",
        "langchain.debug = False\n",
        "langchain.llm_cache = False"
      ],
      "metadata": {
        "id": "WoDddY72bbag"
      },
      "execution_count": 15,
      "outputs": []
    },
    {
      "cell_type": "code",
      "source": [
        "# Test the tool function directly\n",
        "test_meal_name = 'Biryani'\n",
        "test_result = get_meal_details(test_meal_name)\n",
        "print(\"Direct Tool Result:\", test_result)\n"
      ],
      "metadata": {
        "colab": {
          "base_uri": "https://localhost:8080/"
        },
        "id": "IlGM1avMb6pR",
        "outputId": "76edb77e-4eec-41ec-f9da-7264821c1b04"
      },
      "execution_count": 16,
      "outputs": [
        {
          "output_type": "stream",
          "name": "stdout",
          "text": [
            "Direct Tool Result: {'name': 'Lamb Biryani', 'category': 'Lamb', 'cuisine': 'Indian', 'instructions': 'Grind the cashew, poppy seeds and cumin seeds into a smooth paste, using as little water as possible. Set aside. \\r\\n\\r\\nDeep fry the sliced onions when it is hot. Don’t overcrowd the oil. When the onions turn light brown, remove from oil and drain on paper towel. The fried onion will crisp up as it drains. Also fry the cashewnuts till golden brown. Set aside.\\r\\n\\r\\nWash the rice and soak in water for twenty minutes.\\r\\nMeanwhile, take a big wide pan, add oil in medium heat, add the sliced onions, add the blended paste, to it add the green chillies, ginger garlic paste and garlic and fry for a minute.\\r\\nThen add the tomatoes and sauté them well till they are cooked and not mushy.\\r\\n\\r\\nThen to it add the red chilli powder, biryani powder, mint, coriander leaves and sauté them well.\\r\\nAdd the yogurt and mix well. I always move the skillet away from the heat when adding yogurt which prevents it from curdling.\\r\\n\\r\\nNow after returning the skillet back to the stove, add the washed lamb and salt and ½ cup water and mix well. Cook for 1 hour and cook it covered in medium low heat or put it in a pressure cooker for 6 whistles. If the water is not drained totally, heat it by keeping it open.\\r\\n\\r\\nTake another big pan, add thrice the cup of rice you use, and boil it. When it is boiling high, add the rice, salt and jeera and mix well. After 7 minutes exact or when the rice is 80% done. Switch off and drain the rice.\\r\\n\\r\\nNow, the layering starts. To the lamb, pat and level it. Add the drained hot rice on the top of it. Garnish with fried onions, ghee, mint, coriander leaves and saffron dissolved in milk.\\r\\n\\r\\nCover the dish and bake in a 350f oven for 15 minutes or till the cooked but not mushy. Or cook in the stove medium heat for 12 minutes and lowest heat for 5 minutes. And switch off. Mix and serve hot!\\r\\nNotes\\r\\n1. If you are cooking in oven, do make sure to cook in a big oven safe pan and cover it tight and then keep in oven for the final step.\\r\\n2. You can skip biryani masala if you don’t have and add just garam masala (1 tsp and red chilli powder – 3 tsp instead of 1 tsp)\\r\\n3. If it is spicy in the end, squeeze some lemon, it will reduce the heat and enhance the flavors also.', 'ingredients': ['12 Cashew nuts', '½ tbsp Khus khus', '½ tbsp Cumin seeds', '3 sliced thinly Onions', '2 tsp Ginger garlic paste', '4 whole Garlic', 'Leaves Mint', 'Leaves Cilantro', '½ tsp dissolved in ½ cup warm milk Saffron', '2 tbsp Ghee', '2 Cups Basmati rice', '½ cup Full fat yogurt', '1 tbsp Cumin Seeds', '½ Bay leaf', '1 thin piece Cinnamon', '3 Cloves', '2 Cardamom', '1 lb Lamb', '1 tsp Red Chilli powder', '1 tbsp Biryani masala'], 'image': 'https://www.themealdb.com/images/media/meals/xrttsx1487339558.jpg'}\n"
          ]
        }
      ]
    },
    {
      "cell_type": "code",
      "source": [
        "from langchain_groq import ChatGroq\n",
        "from langchain_core.tools import tool\n",
        "import requests\n",
        "from typing import Dict, Any, Optional\n",
        "\n",
        "# Define the tool\n",
        "@tool\n",
        "def get_meal_details(meal_name: str) -> Dict[str, Any]:\n",
        "    \"\"\"Fetch details of a meal by its name from the MealDB API.\"\"\"\n",
        "    api_url = f\"https://www.themealdb.com/api/json/v1/1/search.php?s={meal_name}\"\n",
        "    response = requests.get(api_url)\n",
        "\n",
        "    if response.status_code == 200:\n",
        "        data = response.json()\n",
        "        meals = data.get('meals')\n",
        "        if meals:\n",
        "            meal = meals[0]\n",
        "            meal_details = {\n",
        "                'name': meal.get('strMeal'),\n",
        "                'category': meal.get('strCategory'),\n",
        "                'cuisine': meal.get('strArea'),\n",
        "                'instructions': meal.get('strInstructions'),\n",
        "                'ingredients': [],\n",
        "                'image': meal.get('strMealThumb')\n",
        "            }\n",
        "\n",
        "            # Collect ingredients and measurements\n",
        "            for i in range(1, 21):\n",
        "                ingredient = meal.get(f'strIngredient{i}')\n",
        "                measurement = meal.get(f'strMeasure{i}')\n",
        "                if ingredient and ingredient.strip():\n",
        "                    meal_details['ingredients'].append(f\"{measurement} {ingredient}\".strip())\n",
        "\n",
        "            return meal_details\n",
        "        else:\n",
        "            return {\"error\": \"Meal not found\"}\n",
        "    else:\n",
        "        return {\"error\": \"Failed to fetch data\"}\n",
        "\n",
        "# Initialize the LLM\n",
        "llm = ChatGroq(model=\"llama3-70b-8192\")\n",
        "\n",
        "# Bind the tool to the LLM\n",
        "tool_model = llm.bind_tools([get_meal_details], tool_choice=\"auto\")\n",
        "\n",
        "def invoke_tool_model(query: str):\n",
        "    \"\"\"\n",
        "    Invoke the tool model with a specific query.\n",
        "\n",
        "    Args:\n",
        "        query (str): The query to be processed by the tool model.\n",
        "\n",
        "    Returns:\n",
        "        dict: The result from the tool model.\n",
        "    \"\"\"\n",
        "    try:\n",
        "        # Invoke the tool model with the query\n",
        "        result = tool_model.invoke(query)\n",
        "\n",
        "        # Print the raw result for debugging\n",
        "        print(\"Raw Result:\", result)\n",
        "\n",
        "        # Check if the result contains tool calls\n",
        "        if hasattr(result, 'tool_calls'):\n",
        "            print(\"Tool Calls:\", result.tool_calls)\n",
        "            # Process tool calls\n",
        "            tool_call = result.tool_calls[0]\n",
        "            # Execute the tool function manually for testing\n",
        "            if tool_call['name'] == 'get_meal_details':\n",
        "                args = tool_call['args']\n",
        "                meal_name = args.get('meal_name')\n",
        "                # Manually call the tool function\n",
        "                tool_result = get_meal_details(meal_name)\n",
        "                print(\"Manual Tool Call Result:\", tool_result)\n",
        "                return tool_result\n",
        "            else:\n",
        "                return {\"error\": \"Unknown tool name\"}\n",
        "        else:\n",
        "            return {\"error\": \"No tool calls found in the result\"}\n",
        "\n",
        "    except Exception as e:\n",
        "        return {\"error\": str(e)}\n",
        "\n",
        "# Example usage\n",
        "query = \"Can you give me the details of the meal 'biryani'?\"\n",
        "result = invoke_tool_model(query)\n",
        "\n",
        "# Print the processed result\n",
        "print(\"Processed Result:\", result)\n"
      ],
      "metadata": {
        "colab": {
          "base_uri": "https://localhost:8080/"
        },
        "id": "jJun4915cR1N",
        "outputId": "746ff0e3-3116-4e2a-cdeb-0237a98441c3"
      },
      "execution_count": 17,
      "outputs": [
        {
          "output_type": "stream",
          "name": "stdout",
          "text": [
            "Raw Result: content='' additional_kwargs={'tool_calls': [{'id': 'call_2bta', 'function': {'arguments': '{\"meal_name\":\"biryani\"}', 'name': 'get_meal_details'}, 'type': 'function'}]} response_metadata={'token_usage': {'completion_tokens': 48, 'prompt_tokens': 924, 'total_tokens': 972, 'completion_time': 0.143266602, 'prompt_time': 0.100798926, 'queue_time': None, 'total_time': 0.24406552799999998}, 'model_name': 'llama3-70b-8192', 'system_fingerprint': 'fp_2f30b0b571', 'finish_reason': 'tool_calls', 'logprobs': None} id='run-fc03c1a5-156f-43a0-bbda-364c7695d1de-0' tool_calls=[{'name': 'get_meal_details', 'args': {'meal_name': 'biryani'}, 'id': 'call_2bta', 'type': 'tool_call'}] usage_metadata={'input_tokens': 924, 'output_tokens': 48, 'total_tokens': 972}\n",
            "Tool Calls: [{'name': 'get_meal_details', 'args': {'meal_name': 'biryani'}, 'id': 'call_2bta', 'type': 'tool_call'}]\n"
          ]
        },
        {
          "output_type": "stream",
          "name": "stderr",
          "text": [
            "/usr/local/lib/python3.10/dist-packages/langchain_core/_api/deprecation.py:139: LangChainDeprecationWarning: The method `BaseTool.__call__` was deprecated in langchain-core 0.1.47 and will be removed in 0.3.0. Use invoke instead.\n",
            "  warn_deprecated(\n"
          ]
        },
        {
          "output_type": "stream",
          "name": "stdout",
          "text": [
            "Manual Tool Call Result: {'name': 'Lamb Biryani', 'category': 'Lamb', 'cuisine': 'Indian', 'instructions': 'Grind the cashew, poppy seeds and cumin seeds into a smooth paste, using as little water as possible. Set aside. \\r\\n\\r\\nDeep fry the sliced onions when it is hot. Don’t overcrowd the oil. When the onions turn light brown, remove from oil and drain on paper towel. The fried onion will crisp up as it drains. Also fry the cashewnuts till golden brown. Set aside.\\r\\n\\r\\nWash the rice and soak in water for twenty minutes.\\r\\nMeanwhile, take a big wide pan, add oil in medium heat, add the sliced onions, add the blended paste, to it add the green chillies, ginger garlic paste and garlic and fry for a minute.\\r\\nThen add the tomatoes and sauté them well till they are cooked and not mushy.\\r\\n\\r\\nThen to it add the red chilli powder, biryani powder, mint, coriander leaves and sauté them well.\\r\\nAdd the yogurt and mix well. I always move the skillet away from the heat when adding yogurt which prevents it from curdling.\\r\\n\\r\\nNow after returning the skillet back to the stove, add the washed lamb and salt and ½ cup water and mix well. Cook for 1 hour and cook it covered in medium low heat or put it in a pressure cooker for 6 whistles. If the water is not drained totally, heat it by keeping it open.\\r\\n\\r\\nTake another big pan, add thrice the cup of rice you use, and boil it. When it is boiling high, add the rice, salt and jeera and mix well. After 7 minutes exact or when the rice is 80% done. Switch off and drain the rice.\\r\\n\\r\\nNow, the layering starts. To the lamb, pat and level it. Add the drained hot rice on the top of it. Garnish with fried onions, ghee, mint, coriander leaves and saffron dissolved in milk.\\r\\n\\r\\nCover the dish and bake in a 350f oven for 15 minutes or till the cooked but not mushy. Or cook in the stove medium heat for 12 minutes and lowest heat for 5 minutes. And switch off. Mix and serve hot!\\r\\nNotes\\r\\n1. If you are cooking in oven, do make sure to cook in a big oven safe pan and cover it tight and then keep in oven for the final step.\\r\\n2. You can skip biryani masala if you don’t have and add just garam masala (1 tsp and red chilli powder – 3 tsp instead of 1 tsp)\\r\\n3. If it is spicy in the end, squeeze some lemon, it will reduce the heat and enhance the flavors also.', 'ingredients': ['12 Cashew nuts', '½ tbsp Khus khus', '½ tbsp Cumin seeds', '3 sliced thinly Onions', '2 tsp Ginger garlic paste', '4 whole Garlic', 'Leaves Mint', 'Leaves Cilantro', '½ tsp dissolved in ½ cup warm milk Saffron', '2 tbsp Ghee', '2 Cups Basmati rice', '½ cup Full fat yogurt', '1 tbsp Cumin Seeds', '½ Bay leaf', '1 thin piece Cinnamon', '3 Cloves', '2 Cardamom', '1 lb Lamb', '1 tsp Red Chilli powder', '1 tbsp Biryani masala'], 'image': 'https://www.themealdb.com/images/media/meals/xrttsx1487339558.jpg'}\n",
            "Processed Result: {'name': 'Lamb Biryani', 'category': 'Lamb', 'cuisine': 'Indian', 'instructions': 'Grind the cashew, poppy seeds and cumin seeds into a smooth paste, using as little water as possible. Set aside. \\r\\n\\r\\nDeep fry the sliced onions when it is hot. Don’t overcrowd the oil. When the onions turn light brown, remove from oil and drain on paper towel. The fried onion will crisp up as it drains. Also fry the cashewnuts till golden brown. Set aside.\\r\\n\\r\\nWash the rice and soak in water for twenty minutes.\\r\\nMeanwhile, take a big wide pan, add oil in medium heat, add the sliced onions, add the blended paste, to it add the green chillies, ginger garlic paste and garlic and fry for a minute.\\r\\nThen add the tomatoes and sauté them well till they are cooked and not mushy.\\r\\n\\r\\nThen to it add the red chilli powder, biryani powder, mint, coriander leaves and sauté them well.\\r\\nAdd the yogurt and mix well. I always move the skillet away from the heat when adding yogurt which prevents it from curdling.\\r\\n\\r\\nNow after returning the skillet back to the stove, add the washed lamb and salt and ½ cup water and mix well. Cook for 1 hour and cook it covered in medium low heat or put it in a pressure cooker for 6 whistles. If the water is not drained totally, heat it by keeping it open.\\r\\n\\r\\nTake another big pan, add thrice the cup of rice you use, and boil it. When it is boiling high, add the rice, salt and jeera and mix well. After 7 minutes exact or when the rice is 80% done. Switch off and drain the rice.\\r\\n\\r\\nNow, the layering starts. To the lamb, pat and level it. Add the drained hot rice on the top of it. Garnish with fried onions, ghee, mint, coriander leaves and saffron dissolved in milk.\\r\\n\\r\\nCover the dish and bake in a 350f oven for 15 minutes or till the cooked but not mushy. Or cook in the stove medium heat for 12 minutes and lowest heat for 5 minutes. And switch off. Mix and serve hot!\\r\\nNotes\\r\\n1. If you are cooking in oven, do make sure to cook in a big oven safe pan and cover it tight and then keep in oven for the final step.\\r\\n2. You can skip biryani masala if you don’t have and add just garam masala (1 tsp and red chilli powder – 3 tsp instead of 1 tsp)\\r\\n3. If it is spicy in the end, squeeze some lemon, it will reduce the heat and enhance the flavors also.', 'ingredients': ['12 Cashew nuts', '½ tbsp Khus khus', '½ tbsp Cumin seeds', '3 sliced thinly Onions', '2 tsp Ginger garlic paste', '4 whole Garlic', 'Leaves Mint', 'Leaves Cilantro', '½ tsp dissolved in ½ cup warm milk Saffron', '2 tbsp Ghee', '2 Cups Basmati rice', '½ cup Full fat yogurt', '1 tbsp Cumin Seeds', '½ Bay leaf', '1 thin piece Cinnamon', '3 Cloves', '2 Cardamom', '1 lb Lamb', '1 tsp Red Chilli powder', '1 tbsp Biryani masala'], 'image': 'https://www.themealdb.com/images/media/meals/xrttsx1487339558.jpg'}\n"
          ]
        }
      ]
    },
    {
      "cell_type": "markdown",
      "source": [
        "# **Importing Libraries**"
      ],
      "metadata": {
        "id": "QhxAvsz4dlls"
      }
    },
    {
      "cell_type": "code",
      "source": [
        "from langchain_groq import ChatGroq\n",
        "from langchain_core.tools import tool\n",
        "from langchain_community.utilities import SQLDatabase\n",
        "from langchain_community.tools import YouTubeSearchTool\n",
        "from pprint import pprint\n",
        "import requests\n",
        "import sqlalchemy as sa\n",
        "from typing import Dict, Any, List, Optional"
      ],
      "metadata": {
        "id": "OMaJvSLHQgtb"
      },
      "execution_count": 19,
      "outputs": []
    },
    {
      "cell_type": "code",
      "source": [
        "llm = ChatGroq(model=\"llama3-70b-8192\")"
      ],
      "metadata": {
        "id": "c9pIr6tvQjhY"
      },
      "execution_count": 20,
      "outputs": []
    },
    {
      "cell_type": "markdown",
      "source": [
        "# **tool testing**"
      ],
      "metadata": {
        "id": "PxE5V7ucpLaQ"
      }
    },
    {
      "cell_type": "code",
      "source": [
        "# Define the tool\n",
        "@tool\n",
        "def get_meal_details(meal_name: str) -> Dict[str, Any]:\n",
        "    \"\"\"Fetch details of a meal by its name from the MealDB API.\"\"\"\n",
        "    api_url = f\"https://www.themealdb.com/api/json/v1/1/search.php?s={meal_name}\"\n",
        "    response = requests.get(api_url)\n",
        "\n",
        "    if response.status_code == 200:\n",
        "        data = response.json()\n",
        "        meals = data.get('meals')\n",
        "        if meals:\n",
        "            meal = meals[0]\n",
        "            meal_details = {\n",
        "                'name': meal.get('strMeal'),\n",
        "                'category': meal.get('strCategory'),\n",
        "                'cuisine': meal.get('strArea'),\n",
        "                'instructions': meal.get('strInstructions'),\n",
        "                'ingredients': [],\n",
        "                'image': meal.get('strMealThumb')\n",
        "            }\n",
        "\n",
        "            # Collect ingredients and measurements\n",
        "            for i in range(1, 21):\n",
        "                ingredient = meal.get(f'strIngredient{i}')\n",
        "                measurement = meal.get(f'strMeasure{i}')\n",
        "                if ingredient and ingredient.strip():\n",
        "                    meal_details['ingredients'].append(f\"{measurement} {ingredient}\".strip())\n",
        "\n",
        "            return meal_details\n",
        "        else:\n",
        "            return {\"error\": \"Meal not found\"}\n",
        "    else:\n",
        "        return {\"error\": \"Failed to fetch data\"}\n",
        "\n",
        "# Bind the tool to the LLM\n",
        "tool_model = llm.bind_tools([get_meal_details], tool_choice=\"auto\")\n",
        "\n",
        "def invoke_tool_model(query: str) -> Dict[str, Any]:\n",
        "    \"\"\"\n",
        "    Invoke the tool model with a specific query.\n",
        "\n",
        "    Args:\n",
        "        query (str): The query to be processed by the tool model.\n",
        "\n",
        "    Returns:\n",
        "        dict: The result from the tool model.\n",
        "    \"\"\"\n",
        "    try:\n",
        "        # Invoke the tool model with the query\n",
        "        result = tool_model.invoke(query)\n",
        "\n",
        "        # Print the raw result for debugging\n",
        "        print(\"Raw Result:\", result)\n",
        "\n",
        "        # Check if the result contains tool calls\n",
        "        if hasattr(result, 'tool_calls'):\n",
        "            print(\"Tool Calls:\", result.tool_calls)\n",
        "            # Process tool calls\n",
        "            tool_call = result.tool_calls[0]\n",
        "            # Execute the tool function manually for testing\n",
        "            if tool_call['name'] == 'get_meal_details':\n",
        "                args = tool_call['args']\n",
        "                meal_name = args.get('meal_name')\n",
        "                # Manually call the tool function\n",
        "                tool_result = get_meal_details(meal_name)\n",
        "                print(\"Manual Tool Call Result:\", tool_result)\n",
        "                return tool_result\n",
        "            else:\n",
        "                return {\"error\": \"Unknown tool name\"}\n",
        "        else:\n",
        "            return {\"error\": \"No tool calls found in the result\"}\n",
        "\n",
        "    except Exception as e:\n",
        "        return {\"error\": str(e)}\n",
        "\n",
        "# Example usage\n",
        "query = \"Can you give me the details of the meal 'biryani'?\"\n",
        "result = invoke_tool_model(query)\n",
        "\n",
        "# Print the processed result\n",
        "print(\"Processed Result:\", result)\n"
      ],
      "metadata": {
        "colab": {
          "base_uri": "https://localhost:8080/"
        },
        "id": "IO6nV8vJQrj-",
        "outputId": "5367dadc-6c00-4cbe-87d3-3d4186bae76b"
      },
      "execution_count": 21,
      "outputs": [
        {
          "output_type": "stream",
          "name": "stdout",
          "text": [
            "Raw Result: content='' additional_kwargs={'tool_calls': [{'id': 'call_wbjq', 'function': {'arguments': '{\"meal_name\":\"biryani\"}', 'name': 'get_meal_details'}, 'type': 'function'}]} response_metadata={'token_usage': {'completion_tokens': 48, 'prompt_tokens': 924, 'total_tokens': 972, 'completion_time': 0.139806328, 'prompt_time': 0.105911359, 'queue_time': None, 'total_time': 0.24571768700000002}, 'model_name': 'llama3-70b-8192', 'system_fingerprint': 'fp_f128cfcd6c', 'finish_reason': 'tool_calls', 'logprobs': None} id='run-baa7970e-1e81-47cb-92ba-276f65a3eee7-0' tool_calls=[{'name': 'get_meal_details', 'args': {'meal_name': 'biryani'}, 'id': 'call_wbjq', 'type': 'tool_call'}] usage_metadata={'input_tokens': 924, 'output_tokens': 48, 'total_tokens': 972}\n",
            "Tool Calls: [{'name': 'get_meal_details', 'args': {'meal_name': 'biryani'}, 'id': 'call_wbjq', 'type': 'tool_call'}]\n",
            "Manual Tool Call Result: {'name': 'Lamb Biryani', 'category': 'Lamb', 'cuisine': 'Indian', 'instructions': 'Grind the cashew, poppy seeds and cumin seeds into a smooth paste, using as little water as possible. Set aside. \\r\\n\\r\\nDeep fry the sliced onions when it is hot. Don’t overcrowd the oil. When the onions turn light brown, remove from oil and drain on paper towel. The fried onion will crisp up as it drains. Also fry the cashewnuts till golden brown. Set aside.\\r\\n\\r\\nWash the rice and soak in water for twenty minutes.\\r\\nMeanwhile, take a big wide pan, add oil in medium heat, add the sliced onions, add the blended paste, to it add the green chillies, ginger garlic paste and garlic and fry for a minute.\\r\\nThen add the tomatoes and sauté them well till they are cooked and not mushy.\\r\\n\\r\\nThen to it add the red chilli powder, biryani powder, mint, coriander leaves and sauté them well.\\r\\nAdd the yogurt and mix well. I always move the skillet away from the heat when adding yogurt which prevents it from curdling.\\r\\n\\r\\nNow after returning the skillet back to the stove, add the washed lamb and salt and ½ cup water and mix well. Cook for 1 hour and cook it covered in medium low heat or put it in a pressure cooker for 6 whistles. If the water is not drained totally, heat it by keeping it open.\\r\\n\\r\\nTake another big pan, add thrice the cup of rice you use, and boil it. When it is boiling high, add the rice, salt and jeera and mix well. After 7 minutes exact or when the rice is 80% done. Switch off and drain the rice.\\r\\n\\r\\nNow, the layering starts. To the lamb, pat and level it. Add the drained hot rice on the top of it. Garnish with fried onions, ghee, mint, coriander leaves and saffron dissolved in milk.\\r\\n\\r\\nCover the dish and bake in a 350f oven for 15 minutes or till the cooked but not mushy. Or cook in the stove medium heat for 12 minutes and lowest heat for 5 minutes. And switch off. Mix and serve hot!\\r\\nNotes\\r\\n1. If you are cooking in oven, do make sure to cook in a big oven safe pan and cover it tight and then keep in oven for the final step.\\r\\n2. You can skip biryani masala if you don’t have and add just garam masala (1 tsp and red chilli powder – 3 tsp instead of 1 tsp)\\r\\n3. If it is spicy in the end, squeeze some lemon, it will reduce the heat and enhance the flavors also.', 'ingredients': ['12 Cashew nuts', '½ tbsp Khus khus', '½ tbsp Cumin seeds', '3 sliced thinly Onions', '2 tsp Ginger garlic paste', '4 whole Garlic', 'Leaves Mint', 'Leaves Cilantro', '½ tsp dissolved in ½ cup warm milk Saffron', '2 tbsp Ghee', '2 Cups Basmati rice', '½ cup Full fat yogurt', '1 tbsp Cumin Seeds', '½ Bay leaf', '1 thin piece Cinnamon', '3 Cloves', '2 Cardamom', '1 lb Lamb', '1 tsp Red Chilli powder', '1 tbsp Biryani masala'], 'image': 'https://www.themealdb.com/images/media/meals/xrttsx1487339558.jpg'}\n",
            "Processed Result: {'name': 'Lamb Biryani', 'category': 'Lamb', 'cuisine': 'Indian', 'instructions': 'Grind the cashew, poppy seeds and cumin seeds into a smooth paste, using as little water as possible. Set aside. \\r\\n\\r\\nDeep fry the sliced onions when it is hot. Don’t overcrowd the oil. When the onions turn light brown, remove from oil and drain on paper towel. The fried onion will crisp up as it drains. Also fry the cashewnuts till golden brown. Set aside.\\r\\n\\r\\nWash the rice and soak in water for twenty minutes.\\r\\nMeanwhile, take a big wide pan, add oil in medium heat, add the sliced onions, add the blended paste, to it add the green chillies, ginger garlic paste and garlic and fry for a minute.\\r\\nThen add the tomatoes and sauté them well till they are cooked and not mushy.\\r\\n\\r\\nThen to it add the red chilli powder, biryani powder, mint, coriander leaves and sauté them well.\\r\\nAdd the yogurt and mix well. I always move the skillet away from the heat when adding yogurt which prevents it from curdling.\\r\\n\\r\\nNow after returning the skillet back to the stove, add the washed lamb and salt and ½ cup water and mix well. Cook for 1 hour and cook it covered in medium low heat or put it in a pressure cooker for 6 whistles. If the water is not drained totally, heat it by keeping it open.\\r\\n\\r\\nTake another big pan, add thrice the cup of rice you use, and boil it. When it is boiling high, add the rice, salt and jeera and mix well. After 7 minutes exact or when the rice is 80% done. Switch off and drain the rice.\\r\\n\\r\\nNow, the layering starts. To the lamb, pat and level it. Add the drained hot rice on the top of it. Garnish with fried onions, ghee, mint, coriander leaves and saffron dissolved in milk.\\r\\n\\r\\nCover the dish and bake in a 350f oven for 15 minutes or till the cooked but not mushy. Or cook in the stove medium heat for 12 minutes and lowest heat for 5 minutes. And switch off. Mix and serve hot!\\r\\nNotes\\r\\n1. If you are cooking in oven, do make sure to cook in a big oven safe pan and cover it tight and then keep in oven for the final step.\\r\\n2. You can skip biryani masala if you don’t have and add just garam masala (1 tsp and red chilli powder – 3 tsp instead of 1 tsp)\\r\\n3. If it is spicy in the end, squeeze some lemon, it will reduce the heat and enhance the flavors also.', 'ingredients': ['12 Cashew nuts', '½ tbsp Khus khus', '½ tbsp Cumin seeds', '3 sliced thinly Onions', '2 tsp Ginger garlic paste', '4 whole Garlic', 'Leaves Mint', 'Leaves Cilantro', '½ tsp dissolved in ½ cup warm milk Saffron', '2 tbsp Ghee', '2 Cups Basmati rice', '½ cup Full fat yogurt', '1 tbsp Cumin Seeds', '½ Bay leaf', '1 thin piece Cinnamon', '3 Cloves', '2 Cardamom', '1 lb Lamb', '1 tsp Red Chilli powder', '1 tbsp Biryani masala'], 'image': 'https://www.themealdb.com/images/media/meals/xrttsx1487339558.jpg'}\n"
          ]
        }
      ]
    },
    {
      "cell_type": "markdown",
      "source": [
        "# **State**"
      ],
      "metadata": {
        "id": "3jLcggqqTVu4"
      }
    },
    {
      "cell_type": "code",
      "source": [
        "from typing_extensions import TypedDict\n",
        "from typing import List\n",
        "\n",
        "class RecipeProjectState(TypedDict):\n",
        "    \"\"\"\n",
        "    Represents the state of the recipe recommendation and shopping assistant workflow.\n",
        "\n",
        "    Attributes:\n",
        "        user_query: The recipe query entered by the user.\n",
        "        recipe_details: The details of the recipe obtained from `get_meal_details_tool`.\n",
        "        ingredients: The list of ingredients required for the recipe.\n",
        "        available_ingredients: The list of ingredients available in the pantry.\n",
        "        missing_ingredients: The list of ingredients that are missing.\n",
        "        shopping_list: The list of items that need to be purchased.\n",
        "        user_purchased: Whether the user has confirmed purchasing the missing ingredients.\n",
        "        youtube_tutorials: The list of YouTube video tutorials related to the recipe.\n",
        "        num_steps: The number of steps completed in the workflow.\n",
        "    \"\"\"\n",
        "    user_query: str\n",
        "    recipe_details: Dict[str, str]\n",
        "    ingredients: List[str]\n",
        "    available_ingredients: List[str]\n",
        "    missing_ingredients: List[str]\n",
        "    shopping_list: List[str]\n",
        "    user_purchased: bool\n",
        "    youtube_tutorials: List[str]\n",
        "    num_steps: int\n"
      ],
      "metadata": {
        "id": "d9ZNqDpqTYTf"
      },
      "execution_count": 22,
      "outputs": []
    },
    {
      "cell_type": "markdown",
      "source": [
        "# **Node#1**"
      ],
      "metadata": {
        "id": "y4MMUaSyUBGz"
      }
    },
    {
      "cell_type": "code",
      "source": [
        "def start_node(state: RecipeProjectState) -> RecipeProjectState:\n",
        "    \"\"\"Initialize the workflow by capturing user input.\"\"\"\n",
        "    print(\"---STARTING WORKFLOW---\")\n",
        "\n",
        "    # Prompt user for input\n",
        "    user_query = input(\"Which recipe would you like to find? \")\n",
        "\n",
        "    # Update state with the user's query\n",
        "    state.update({\n",
        "        'user_query': user_query,\n",
        "        'num_steps': state['num_steps'] + 1\n",
        "    })\n",
        "\n",
        "    return state\n"
      ],
      "metadata": {
        "id": "Ge35JBQ6UAnx"
      },
      "execution_count": 23,
      "outputs": []
    },
    {
      "cell_type": "markdown",
      "source": [
        "# **2nd Node**"
      ],
      "metadata": {
        "id": "qMuF4suvU7u8"
      }
    },
    {
      "cell_type": "code",
      "source": [
        "from typing import List\n",
        "\n",
        "def research_info_search(state: RecipeProjectState) -> RecipeProjectState:\n",
        "    \"\"\"Search for recipe information and extract ingredients.\"\"\"\n",
        "    print(\"---RESEARCH INFO SEARCHING---\")\n",
        "\n",
        "    user_query = state[\"user_query\"]\n",
        "    num_steps = state['num_steps']\n",
        "    num_steps += 1\n",
        "\n",
        "    # Simulate a call to the get_meal_details_tool API\n",
        "    api_response = get_meal_details.invoke({\"meal_name\": user_query})\n",
        "\n",
        "    # Extract information from the API response\n",
        "    if 'ingredients' in api_response:\n",
        "        ingredients = api_response['ingredients']\n",
        "        print(f\"Ingredients: {ingredients}\")\n",
        "    else:\n",
        "        ingredients = []\n",
        "        print(\"No ingredients found.\")\n",
        "\n",
        "    # Update state with recipe details and ingredients\n",
        "    state.update({\n",
        "        'recipe_details': api_response,\n",
        "        'ingredients': ingredients,\n",
        "        'num_steps': num_steps\n",
        "    })\n",
        "\n",
        "    return state\n"
      ],
      "metadata": {
        "id": "ggEb-9QMU9NM"
      },
      "execution_count": 24,
      "outputs": []
    },
    {
      "cell_type": "markdown",
      "source": [
        "# **3rd node**"
      ],
      "metadata": {
        "id": "53mT314QWAyB"
      }
    },
    {
      "cell_type": "code",
      "source": [
        "import sqlite3\n",
        "from langchain_community.utilities import SQLDatabase\n",
        "\n",
        "# Step 1: Create and populate the SQLite database\n",
        "def setup_database():\n",
        "    conn = sqlite3.connect('pantry.db')\n",
        "    cursor = conn.cursor()\n",
        "\n",
        "    cursor.execute('''\n",
        "    CREATE TABLE IF NOT EXISTS Pantry (\n",
        "        ingredient TEXT PRIMARY KEY\n",
        "    )\n",
        "    ''')\n",
        "\n",
        "    ingredients = [\n",
        "        'Cashew nuts',\n",
        "        'Cumin seeds',\n",
        "        'Ghee',\n",
        "        'Basmati rice',\n",
        "        'Full fat yogurt',\n",
        "        'Lamb',\n",
        "        'Red Chilli powder',\n",
        "        'Biryani masala'\n",
        "    ]\n",
        "\n",
        "    for ingredient in ingredients:\n",
        "        cursor.execute('''\n",
        "        INSERT OR IGNORE INTO Pantry (ingredient) VALUES (?)\n",
        "        ''', (ingredient,))\n",
        "\n",
        "    conn.commit()\n",
        "    conn.close()\n",
        "\n",
        "# Setup the database\n",
        "setup_database()\n",
        "\n",
        "# Step 2: Initialize the SQLDatabase object\n",
        "db = SQLDatabase.from_uri(\"sqlite:///pantry.db\")\n",
        "\n",
        "# Example query to verify the setup\n",
        "result = db.run(\"SELECT * FROM Pantry;\", fetch=\"all\")\n",
        "print(result)\n"
      ],
      "metadata": {
        "colab": {
          "base_uri": "https://localhost:8080/"
        },
        "id": "MZ5x8hgaWrpU",
        "outputId": "a6f4173a-c641-4772-92c1-68560a5a999c"
      },
      "execution_count": 25,
      "outputs": [
        {
          "output_type": "stream",
          "name": "stdout",
          "text": [
            "[('Cashew nuts',), ('Cumin seeds',), ('Ghee',), ('Basmati rice',), ('Full fat yogurt',), ('Lamb',), ('Red Chilli powder',), ('Biryani masala',)]\n"
          ]
        }
      ]
    },
    {
      "cell_type": "markdown",
      "source": [
        "# **4rth Node**"
      ],
      "metadata": {
        "id": "JdHHfznnbL1W"
      }
    },
    {
      "cell_type": "code",
      "source": [
        "def check_ingredients_in_pantry(state):\n",
        "    # Extract pantry ingredients from state\n",
        "    pantry_ingredients = state.get('pantry_ingredients', [])\n",
        "\n",
        "    # Print the type and content of pantry_ingredients for debugging\n",
        "    print(\"Type of pantry_ingredients:\", type(pantry_ingredients))\n",
        "    print(\"Content of pantry_ingredients:\", pantry_ingredients)\n",
        "\n",
        "    # Check if the format is a list of tuples or a list of strings\n",
        "    if isinstance(pantry_ingredients, list):\n",
        "        if all(isinstance(item, tuple) and len(item) == 1 for item in pantry_ingredients):\n",
        "            # Extract ingredient names from tuples\n",
        "            pantry_ingredients = [item[0] for item in pantry_ingredients]\n",
        "        elif all(isinstance(item, str) for item in pantry_ingredients):\n",
        "            # If already a list of strings, no further processing needed\n",
        "            pass\n",
        "        else:\n",
        "            # Handle unexpected format\n",
        "            raise ValueError(\"The format of pantry_ingredients is not recognized.\")\n",
        "    else:\n",
        "        # Handle unexpected format\n",
        "        raise ValueError(\"The format of pantry_ingredients is not recognized.\")\n",
        "\n",
        "    # Determine which ingredients are missing\n",
        "    missing_ingredients = [ingredient for ingredient in state['ingredients'] if ingredient not in pantry_ingredients]\n",
        "\n",
        "    return {\n",
        "        'missing_ingredients': missing_ingredients\n",
        "    }\n"
      ],
      "metadata": {
        "id": "moKdw1vjzXz3"
      },
      "execution_count": 66,
      "outputs": []
    },
    {
      "cell_type": "markdown",
      "source": [
        "# **5rth Node**"
      ],
      "metadata": {
        "id": "bYxT369AXSMp"
      }
    },
    {
      "cell_type": "code",
      "source": [
        "def handle_user_input(state: RecipeProjectState) -> RecipeProjectState:\n",
        "    \"\"\"Prompt the user for additional input or alternative options and manage workflow based on the response.\"\"\"\n",
        "    print(\"---HANDLING USER INPUT---\")\n",
        "\n",
        "    # Extract relevant state variables\n",
        "    missing_ingredients = state['missing_ingredients']\n",
        "    pantry_ingredients = state['available_ingredients']\n",
        "    user_purchased = state['user_purchased']\n",
        "    num_steps = state['num_steps']\n",
        "\n",
        "    # Prompt the user for confirmation\n",
        "    print(\"Missing ingredients:\", missing_ingredients)\n",
        "    user_response = input(\"Have you purchased the missing ingredients? (yes/no): \").strip().lower()\n",
        "\n",
        "    if user_response == 'yes':\n",
        "        # Update the state to reflect that the ingredients have been purchased\n",
        "        user_purchased = True\n",
        "        num_steps += 1\n",
        "\n",
        "        # Add missing ingredients to pantry\n",
        "        pantry_ingredients.extend(missing_ingredients)\n",
        "\n",
        "        print(\"Great! The missing ingredients have been added to your pantry.\")\n",
        "        print(\"Updated pantry ingredients:\", pantry_ingredients)\n",
        "    else:\n",
        "        # Block further workflow until the user confirms ingredient purchase\n",
        "        print(\"You need to purchase the ingredients before continuing.\")\n",
        "\n",
        "    state.update({\n",
        "        'available_ingredients': pantry_ingredients,\n",
        "        'user_purchased': user_purchased,\n",
        "        'num_steps': num_steps\n",
        "    })\n",
        "\n",
        "    return state\n"
      ],
      "metadata": {
        "id": "nBog6aQXeqcx"
      },
      "execution_count": 88,
      "outputs": []
    },
    {
      "cell_type": "markdown",
      "source": [
        "# **6th Node**"
      ],
      "metadata": {
        "id": "pWzjzfTZX_aK"
      }
    },
    {
      "cell_type": "code",
      "source": [
        "from langchain_community.tools import YouTubeSearchTool\n",
        "from typing import List, Dict\n",
        "\n",
        "def fetch_youtube_video_tutorials(state: RecipeProjectState) -> RecipeProjectState:\n",
        "    \"\"\"Search for related cooking video tutorials on YouTube.\"\"\"\n",
        "    print(\"---FETCHING YOUTUBE VIDEO TUTORIALS---\")\n",
        "\n",
        "    # Extract relevant state variables\n",
        "    recipe_details = state.get(\"recipe_details\", {})\n",
        "    recipe_name = recipe_details.get('name', 'Unknown Recipe')\n",
        "    num_steps = state['num_steps']\n",
        "\n",
        "    # Initialize YouTube search tool\n",
        "    youtube_search_tool = YouTubeSearchTool()\n",
        "\n",
        "    # Create a search query based on the recipe name\n",
        "    search_query = f\"Cooking tutorial for {recipe_name}\"\n",
        "\n",
        "    # Perform the YouTube search\n",
        "    youtube_results = youtube_search_tool.run(search_query)\n",
        "    print(\"YouTube search results:\", youtube_results)\n",
        "\n",
        "    # Update the state with the results and increment the step count\n",
        "    state.update({\n",
        "        'youtube_tutorials': youtube_results,\n",
        "        'num_steps': num_steps + 1\n",
        "    })\n",
        "\n",
        "    return state\n"
      ],
      "metadata": {
        "id": "cuj24cgh0tT4"
      },
      "execution_count": 81,
      "outputs": []
    },
    {
      "cell_type": "markdown",
      "source": [
        "# **End Node**"
      ],
      "metadata": {
        "id": "VdoMzalPYRsS"
      }
    },
    {
      "cell_type": "code",
      "source": [
        "def end_node(state: RecipeProjectState) -> RecipeProjectState:\n",
        "    \"\"\"Conclude the workflow by displaying the results to the user.\"\"\"\n",
        "    print(\"---ENDING WORKFLOW---\")\n",
        "\n",
        "    # Extract the relevant information from the state\n",
        "    recipe_details = state.get(\"recipe_details\", {})\n",
        "    youtube_tutorials = state.get(\"youtube_tutorials\", [])\n",
        "    num_steps = state.get('num_steps', 0)\n",
        "\n",
        "    # Display results\n",
        "    print(\"Recipe Details:\", recipe_details)\n",
        "    print(\"YouTube Tutorials:\", youtube_tutorials)\n",
        "\n",
        "    # Prepare the final results\n",
        "    final_results = {\n",
        "        \"recipes\": recipe_details,\n",
        "        \"videos\": youtube_tutorials\n",
        "    }\n",
        "\n",
        "    # Update the state with final results and increment the step count\n",
        "    state.update({\n",
        "        'final_results': final_results,\n",
        "        'num_steps': num_steps + 1\n",
        "    })\n",
        "\n",
        "    return state\n"
      ],
      "metadata": {
        "id": "2HRuFXcUYTna"
      },
      "execution_count": 28,
      "outputs": []
    },
    {
      "cell_type": "markdown",
      "source": [
        "# **state Updation**"
      ],
      "metadata": {
        "id": "HbA3mCTxYquU"
      }
    },
    {
      "cell_type": "code",
      "source": [
        "def state_printer(state: RecipeProjectState) -> None:\n",
        "    \"\"\"Print the state of the RecipeQuest workflow.\"\"\"\n",
        "    print(\"---STATE PRINTER---\")\n",
        "    print(f\"User Query: {state.get('user_query', 'N/A')} \\n\")\n",
        "    print(f\"Recipe Details: {state.get('recipe_details', 'N/A')} \\n\")\n",
        "    print(f\"Ingredients: {state.get('ingredients', [])} \\n\")\n",
        "    print(f\"Available Ingredients: {state.get('available_ingredients', [])} \\n\")\n",
        "    print(f\"Missing Ingredients: {state.get('missing_ingredients', [])} \\n\")\n",
        "    print(f\"Shopping List: {state.get('shopping_list', [])} \\n\")\n",
        "    print(f\"User Purchased: {state.get('user_purchased', 'N/A')} \\n\")\n",
        "    print(f\"YouTube Tutorials: {state.get('youtube_tutorials', [])} \\n\")\n",
        "    print(f\"Num Steps: {state.get('num_steps', 0)} \\n\")\n",
        "    print(f\"Final Results: {state.get('final_results', {})} \\n\")\n"
      ],
      "metadata": {
        "id": "U3lwiyEHYqam"
      },
      "execution_count": 87,
      "outputs": []
    },
    {
      "cell_type": "markdown",
      "source": [
        "# **Conditional Edges**"
      ],
      "metadata": {
        "id": "qsjkX-qKZk92"
      }
    },
    {
      "cell_type": "code",
      "source": [
        "from typing import TypedDict, List, Literal"
      ],
      "metadata": {
        "id": "R7i355svhWhq"
      },
      "execution_count": 30,
      "outputs": []
    },
    {
      "cell_type": "code",
      "source": [
        "def route_to_handle_user_input(state: RecipeProjectState) -> Literal[\"handle_user_input\", \"__end__\"]:\n",
        "    \"\"\"Route based on whether ingredients are available or not.\"\"\"\n",
        "    if not state.get(\"available_ingredients\"):\n",
        "        return \"__end__\"\n",
        "    return \"handle_user_input\"\n",
        "\n",
        "def route_to_youtube_search(state: RecipeProjectState) -> Literal[\"fetch_youtube_video_tutorials\", \"__end__\"]:\n",
        "    \"\"\"Route based on user's response about ingredient purchase.\"\"\"\n",
        "    if not state.get(\"user_purchased\"):\n",
        "        return \"__end__\"\n",
        "    return \"fetch_youtube_video_tutorials\"\n"
      ],
      "metadata": {
        "id": "7VawNMcMhQpk"
      },
      "execution_count": 44,
      "outputs": []
    },
    {
      "cell_type": "markdown",
      "source": [
        "# **Adding Nodes**"
      ],
      "metadata": {
        "id": "YiwSTeoSaXiH"
      }
    },
    {
      "cell_type": "code",
      "source": [
        "from langgraph.graph import StateGraph, START, END"
      ],
      "metadata": {
        "id": "-RxmB-JsbmoO"
      },
      "execution_count": 31,
      "outputs": []
    },
    {
      "cell_type": "code",
      "source": [
        "workflow = StateGraph(RecipeProjectState)"
      ],
      "metadata": {
        "id": "dxkb5_cKcTS6"
      },
      "execution_count": 89,
      "outputs": []
    },
    {
      "cell_type": "code",
      "source": [
        "workflow.add_node(\"start_node\", start_node)\n",
        "workflow.add_node(\"research_info_search\", research_info_search)\n",
        "workflow.add_node(\"check_ingredients_in_pantry\", check_ingredients_in_pantry)\n",
        "workflow.add_node(\"handle_user_input\", handle_user_input)\n",
        "workflow.add_node(\"fetch_youtube_video_tutorials\", fetch_youtube_video_tutorials)\n",
        "workflow.add_node(\"end_node\", end_node)"
      ],
      "metadata": {
        "id": "laASfIKwb0Mv"
      },
      "execution_count": 90,
      "outputs": []
    },
    {
      "cell_type": "code",
      "source": [
        "\n",
        "\n",
        "#workflow.set_entry_point(\"start_node\")\n",
        "\n"
      ],
      "metadata": {
        "id": "BhT-_liroHXm"
      },
      "execution_count": null,
      "outputs": []
    },
    {
      "cell_type": "markdown",
      "source": [
        "# **Adding Edges**"
      ],
      "metadata": {
        "id": "VHGDjZKadlre"
      }
    },
    {
      "cell_type": "code",
      "source": [
        "\n",
        "# Add edges\n",
        "workflow.add_edge(START, \"start_node\")\n",
        "workflow.add_edge(\"start_node\", \"research_info_search\")\n",
        "workflow.add_edge(\"research_info_search\", \"check_ingredients_in_pantry\")\n",
        "workflow.add_edge(\"check_ingredients_in_pantry\", \"handle_user_input\")\n",
        "\n",
        "# Add conditional edge\n",
        "workflow.add_conditional_edges(\n",
        "    \"handle_user_input\",\n",
        "    route_to_youtube_search,\n",
        "    {\"fetch_youtube_video_tutorials\": \"fetch_youtube_video_tutorials\", \"__end__\": \"end_node\"}\n",
        ")\n",
        "\n",
        "workflow.add_edge(\"fetch_youtube_video_tutorials\", \"end_node\")\n",
        "workflow.add_edge(\"end_node\", END)\n",
        "\n",
        "# Compile the workflow\n",
        "graph = workflow.compile()"
      ],
      "metadata": {
        "id": "exvZDfrRt-mA"
      },
      "execution_count": 91,
      "outputs": []
    },
    {
      "cell_type": "code",
      "source": [
        "print(\"Nodes:\", workflow.nodes)\n",
        "\n"
      ],
      "metadata": {
        "colab": {
          "base_uri": "https://localhost:8080/"
        },
        "id": "RsFU8maKgeqQ",
        "outputId": "79b7746a-4e9f-4075-d2b3-77b3c7fac396"
      },
      "execution_count": 49,
      "outputs": [
        {
          "output_type": "stream",
          "name": "stdout",
          "text": [
            "Nodes: {'start_node': NodeSpec(runnable=start_node(recurse=True), metadata=None), 'research_info_search': NodeSpec(runnable=research_info_search(recurse=True), metadata=None), 'check_ingredients_in_pantry': NodeSpec(runnable=check_ingredients_in_pantry(recurse=True), metadata=None), 'handle_user_input': NodeSpec(runnable=handle_user_input(recurse=True), metadata=None), 'fetch_youtube_video_tutorials': NodeSpec(runnable=fetch_youtube_video_tutorials(recurse=True), metadata=None), 'end_node': NodeSpec(runnable=end_node(recurse=True), metadata=None)}\n"
          ]
        }
      ]
    },
    {
      "cell_type": "code",
      "source": [
        "print(workflow.edges)"
      ],
      "metadata": {
        "colab": {
          "base_uri": "https://localhost:8080/"
        },
        "id": "TTnPO8OVg0WT",
        "outputId": "1e37ba05-4877-439c-be28-8fe2242cca88"
      },
      "execution_count": 50,
      "outputs": [
        {
          "output_type": "stream",
          "name": "stdout",
          "text": [
            "{('fetch_youtube_video_tutorials', 'end_node'), ('research_info_search', 'check_ingredients_in_pantry'), ('__start__', 'start_node'), ('end_node', '__end__'), ('check_ingredients_in_pantry', 'handle_user_input'), ('start_node', 'research_info_search')}\n"
          ]
        }
      ]
    },
    {
      "cell_type": "markdown",
      "source": [
        "inshalla"
      ],
      "metadata": {
        "id": "P0w9LQ3nh1VD"
      }
    },
    {
      "cell_type": "markdown",
      "source": [
        "# **Adding edges**"
      ],
      "metadata": {
        "id": "GIBxbSVVtFW8"
      }
    },
    {
      "cell_type": "markdown",
      "source": [
        "# **Edges**"
      ],
      "metadata": {
        "id": "VgZPj6F0wRQ6"
      }
    },
    {
      "cell_type": "code",
      "source": [
        "print(\"Nodes in the graph:\", workflow.nodes)\n"
      ],
      "metadata": {
        "colab": {
          "base_uri": "https://localhost:8080/"
        },
        "id": "WQSh85uBlM0A",
        "outputId": "9f104944-e00d-4833-8ca6-86debbf631f2"
      },
      "execution_count": null,
      "outputs": [
        {
          "output_type": "stream",
          "name": "stdout",
          "text": [
            "Nodes in the graph: {'start_node': NodeSpec(runnable=start_node(recurse=True), metadata=None), 'research_info_search': NodeSpec(runnable=research_info_search(recurse=True), metadata=None), 'check_ingredients_in_pantry': NodeSpec(runnable=check_ingredients_in_pantry(recurse=True), metadata=None), 'handle_user_input': NodeSpec(runnable=handle_user_input(recurse=True), metadata=None), 'fetch_youtube_video_tutorials': NodeSpec(runnable=fetch_youtube_video_tutorials(recurse=True), metadata=None), 'end_node': NodeSpec(runnable=end_node(recurse=True), metadata=None)}\n"
          ]
        }
      ]
    },
    {
      "cell_type": "code",
      "source": [
        "# Compile the workflow\n",
        "graph = workflow.compile()\n"
      ],
      "metadata": {
        "id": "2J4fYvW0iSvY"
      },
      "execution_count": 92,
      "outputs": []
    },
    {
      "cell_type": "markdown",
      "source": [
        "# **Graph**"
      ],
      "metadata": {
        "id": "cGDsUcIUwlfR"
      }
    },
    {
      "cell_type": "code",
      "source": [
        "from IPython.display import Image, display\n",
        "\n",
        "try:\n",
        "    display(Image(graph.get_graph().draw_mermaid_png()))\n",
        "except Exception:\n",
        "    # This requires some extra dependencies and is optional\n",
        "    pass"
      ],
      "metadata": {
        "colab": {
          "base_uri": "https://localhost:8080/",
          "height": 657
        },
        "id": "1Y3DM37kshic",
        "outputId": "85983220-61c4-41ee-a23a-9c2658bb8a18"
      },
      "execution_count": 93,
      "outputs": [
        {
          "output_type": "display_data",
          "data": {
            "image/jpeg": "[encoded data removed]",
            "text/plain": [
              "<IPython.core.display.Image object>"
            ]
          },
          "metadata": {}
        }
      ]
    },
    {
      "cell_type": "code",
      "source": [
        "# Define the initial state for the graph\n",
        "initial_state = {\n",
        "    \"recipe_details\": {\"recipe_name\": \"Sample Recipe\"},  # Example data\n",
        "    \"ingredients\": [\"Cashew nuts\", \"Ghee\", \"Basmati rice\"],  # Example data\n",
        "    \"available_ingredients\": [],\n",
        "    \"missing_ingredients\": [],\n",
        "    \"shopping_list\": [],\n",
        "    \"user_purchased\": False,\n",
        "    \"num_steps\": 0\n",
        "}\n",
        "\n",
        "# Run the graph with the initial state and stream the outputs\n",
        "for output in graph.stream(initial_state):\n",
        "    for key, value in output.items():\n",
        "        pprint(f\"Finished running: {key}: {value}\")\n"
      ],
      "metadata": {
        "colab": {
          "base_uri": "https://localhost:8080/"
        },
        "id": "lg7XnxBnyEla",
        "outputId": "8d0bc113-9f15-444d-f07e-d9fd885fc418"
      },
      "execution_count": 94,
      "outputs": [
        {
          "output_type": "stream",
          "name": "stdout",
          "text": [
            "---STARTING WORKFLOW---\n",
            "Which recipe would you like to find? biryani\n",
            "(\"Finished running: start_node: {'user_query': 'biryani', 'recipe_details': \"\n",
            " \"{'recipe_name': 'Sample Recipe'}, 'ingredients': ['Cashew nuts', 'Ghee', \"\n",
            " \"'Basmati rice'], 'available_ingredients': [], 'missing_ingredients': [], \"\n",
            " \"'shopping_list': [], 'user_purchased': False, 'youtube_tutorials': None, \"\n",
            " \"'num_steps': 1}\")\n",
            "---RESEARCH INFO SEARCHING---\n",
            "Ingredients: ['12 Cashew nuts', '½ tbsp Khus khus', '½ tbsp Cumin seeds', '3 sliced thinly Onions', '2 tsp Ginger garlic paste', '4 whole Garlic', 'Leaves Mint', 'Leaves Cilantro', '½ tsp dissolved in ½ cup warm milk Saffron', '2 tbsp Ghee', '2 Cups Basmati rice', '½ cup Full fat yogurt', '1 tbsp Cumin Seeds', '½ Bay leaf', '1 thin piece Cinnamon', '3 Cloves', '2 Cardamom', '1 lb Lamb', '1 tsp Red Chilli powder', '1 tbsp Biryani masala']\n",
            "(\"Finished running: research_info_search: {'user_query': 'biryani', \"\n",
            " \"'recipe_details': {'name': 'Lamb Biryani', 'category': 'Lamb', 'cuisine': \"\n",
            " \"'Indian', 'instructions': 'Grind the cashew, poppy seeds and cumin seeds \"\n",
            " 'into a smooth paste, using as little water as possible. Set aside. '\n",
            " '\\\\r\\\\n\\\\r\\\\nDeep fry the sliced onions when it is hot. Don’t overcrowd the '\n",
            " 'oil. When the onions turn light brown, remove from oil and drain on paper '\n",
            " 'towel. The fried onion will crisp up as it drains. Also fry the cashewnuts '\n",
            " 'till golden brown. Set aside.\\\\r\\\\n\\\\r\\\\nWash the rice and soak in water for '\n",
            " 'twenty minutes.\\\\r\\\\nMeanwhile, take a big wide pan, add oil in medium heat, '\n",
            " 'add the sliced onions, add the blended paste, to it add the green chillies, '\n",
            " 'ginger garlic paste and garlic and fry for a minute.\\\\r\\\\nThen add the '\n",
            " 'tomatoes and sauté them well till they are cooked and not '\n",
            " 'mushy.\\\\r\\\\n\\\\r\\\\nThen to it add the red chilli powder, biryani powder, '\n",
            " 'mint, coriander leaves and sauté them well.\\\\r\\\\nAdd the yogurt and mix '\n",
            " 'well. I always move the skillet away from the heat when adding yogurt which '\n",
            " 'prevents it from curdling.\\\\r\\\\n\\\\r\\\\nNow after returning the skillet back '\n",
            " 'to the stove, add the washed lamb and salt and ½ cup water and mix well. '\n",
            " 'Cook for 1 hour and cook it covered in medium low heat or put it in a '\n",
            " 'pressure cooker for 6 whistles. If the water is not drained totally, heat it '\n",
            " 'by keeping it open.\\\\r\\\\n\\\\r\\\\nTake another big pan, add thrice the cup of '\n",
            " 'rice you use, and boil it. When it is boiling high, add the rice, salt and '\n",
            " 'jeera and mix well. After 7 minutes exact or when the rice is 80% done. '\n",
            " 'Switch off and drain the rice.\\\\r\\\\n\\\\r\\\\nNow, the layering starts. To the '\n",
            " 'lamb, pat and level it. Add the drained hot rice on the top of it. Garnish '\n",
            " 'with fried onions, ghee, mint, coriander leaves and saffron dissolved in '\n",
            " 'milk.\\\\r\\\\n\\\\r\\\\nCover the dish and bake in a 350f oven for 15 minutes or '\n",
            " 'till the cooked but not mushy. Or cook in the stove medium heat for 12 '\n",
            " 'minutes and lowest heat for 5 minutes. And switch off. Mix and serve '\n",
            " 'hot!\\\\r\\\\nNotes\\\\r\\\\n1. If you are cooking in oven, do make sure to cook in '\n",
            " 'a big oven safe pan and cover it tight and then keep in oven for the final '\n",
            " 'step.\\\\r\\\\n2. You can skip biryani masala if you don’t have and add just '\n",
            " 'garam masala (1 tsp and red chilli powder – 3 tsp instead of 1 tsp)\\\\r\\\\n3. '\n",
            " 'If it is spicy in the end, squeeze some lemon, it will reduce the heat and '\n",
            " \"enhance the flavors also.', 'ingredients': ['12 Cashew nuts', '½ tbsp Khus \"\n",
            " \"khus', '½ tbsp Cumin seeds', '3 sliced thinly Onions', '2 tsp Ginger garlic \"\n",
            " \"paste', '4 whole Garlic', 'Leaves Mint', 'Leaves Cilantro', '½ tsp dissolved \"\n",
            " \"in ½ cup warm milk Saffron', '2 tbsp Ghee', '2 Cups Basmati rice', '½ cup \"\n",
            " \"Full fat yogurt', '1 tbsp Cumin Seeds', '½ Bay leaf', '1 thin piece \"\n",
            " \"Cinnamon', '3 Cloves', '2 Cardamom', '1 lb Lamb', '1 tsp Red Chilli powder', \"\n",
            " \"'1 tbsp Biryani masala'], 'image': \"\n",
            " \"'https://www.themealdb.com/images/media/meals/xrttsx1487339558.jpg'}, \"\n",
            " \"'ingredients': ['12 Cashew nuts', '½ tbsp Khus khus', '½ tbsp Cumin seeds', \"\n",
            " \"'3 sliced thinly Onions', '2 tsp Ginger garlic paste', '4 whole Garlic', \"\n",
            " \"'Leaves Mint', 'Leaves Cilantro', '½ tsp dissolved in ½ cup warm milk \"\n",
            " \"Saffron', '2 tbsp Ghee', '2 Cups Basmati rice', '½ cup Full fat yogurt', '1 \"\n",
            " \"tbsp Cumin Seeds', '½ Bay leaf', '1 thin piece Cinnamon', '3 Cloves', '2 \"\n",
            " \"Cardamom', '1 lb Lamb', '1 tsp Red Chilli powder', '1 tbsp Biryani masala'], \"\n",
            " \"'available_ingredients': [], 'missing_ingredients': [], 'shopping_list': [], \"\n",
            " \"'user_purchased': False, 'youtube_tutorials': None, 'num_steps': 2}\")\n",
            "Type of pantry_ingredients: <class 'list'>\n",
            "Content of pantry_ingredients: []\n",
            "(\"Finished running: check_ingredients_in_pantry: {'missing_ingredients': ['12 \"\n",
            " \"Cashew nuts', '½ tbsp Khus khus', '½ tbsp Cumin seeds', '3 sliced thinly \"\n",
            " \"Onions', '2 tsp Ginger garlic paste', '4 whole Garlic', 'Leaves Mint', \"\n",
            " \"'Leaves Cilantro', '½ tsp dissolved in ½ cup warm milk Saffron', '2 tbsp \"\n",
            " \"Ghee', '2 Cups Basmati rice', '½ cup Full fat yogurt', '1 tbsp Cumin Seeds', \"\n",
            " \"'½ Bay leaf', '1 thin piece Cinnamon', '3 Cloves', '2 Cardamom', '1 lb \"\n",
            " \"Lamb', '1 tsp Red Chilli powder', '1 tbsp Biryani masala']}\")\n",
            "---HANDLING USER INPUT---\n",
            "Missing ingredients: ['12 Cashew nuts', '½ tbsp Khus khus', '½ tbsp Cumin seeds', '3 sliced thinly Onions', '2 tsp Ginger garlic paste', '4 whole Garlic', 'Leaves Mint', 'Leaves Cilantro', '½ tsp dissolved in ½ cup warm milk Saffron', '2 tbsp Ghee', '2 Cups Basmati rice', '½ cup Full fat yogurt', '1 tbsp Cumin Seeds', '½ Bay leaf', '1 thin piece Cinnamon', '3 Cloves', '2 Cardamom', '1 lb Lamb', '1 tsp Red Chilli powder', '1 tbsp Biryani masala']\n",
            "Have you purchased the missing ingredients? (yes/no): yes\n",
            "Great! The missing ingredients have been added to your pantry.\n",
            "Updated pantry ingredients: ['12 Cashew nuts', '½ tbsp Khus khus', '½ tbsp Cumin seeds', '3 sliced thinly Onions', '2 tsp Ginger garlic paste', '4 whole Garlic', 'Leaves Mint', 'Leaves Cilantro', '½ tsp dissolved in ½ cup warm milk Saffron', '2 tbsp Ghee', '2 Cups Basmati rice', '½ cup Full fat yogurt', '1 tbsp Cumin Seeds', '½ Bay leaf', '1 thin piece Cinnamon', '3 Cloves', '2 Cardamom', '1 lb Lamb', '1 tsp Red Chilli powder', '1 tbsp Biryani masala']\n",
            "(\"Finished running: handle_user_input: {'user_query': 'biryani', \"\n",
            " \"'recipe_details': {'name': 'Lamb Biryani', 'category': 'Lamb', 'cuisine': \"\n",
            " \"'Indian', 'instructions': 'Grind the cashew, poppy seeds and cumin seeds \"\n",
            " 'into a smooth paste, using as little water as possible. Set aside. '\n",
            " '\\\\r\\\\n\\\\r\\\\nDeep fry the sliced onions when it is hot. Don’t overcrowd the '\n",
            " 'oil. When the onions turn light brown, remove from oil and drain on paper '\n",
            " 'towel. The fried onion will crisp up as it drains. Also fry the cashewnuts '\n",
            " 'till golden brown. Set aside.\\\\r\\\\n\\\\r\\\\nWash the rice and soak in water for '\n",
            " 'twenty minutes.\\\\r\\\\nMeanwhile, take a big wide pan, add oil in medium heat, '\n",
            " 'add the sliced onions, add the blended paste, to it add the green chillies, '\n",
            " 'ginger garlic paste and garlic and fry for a minute.\\\\r\\\\nThen add the '\n",
            " 'tomatoes and sauté them well till they are cooked and not '\n",
            " 'mushy.\\\\r\\\\n\\\\r\\\\nThen to it add the red chilli powder, biryani powder, '\n",
            " 'mint, coriander leaves and sauté them well.\\\\r\\\\nAdd the yogurt and mix '\n",
            " 'well. I always move the skillet away from the heat when adding yogurt which '\n",
            " 'prevents it from curdling.\\\\r\\\\n\\\\r\\\\nNow after returning the skillet back '\n",
            " 'to the stove, add the washed lamb and salt and ½ cup water and mix well. '\n",
            " 'Cook for 1 hour and cook it covered in medium low heat or put it in a '\n",
            " 'pressure cooker for 6 whistles. If the water is not drained totally, heat it '\n",
            " 'by keeping it open.\\\\r\\\\n\\\\r\\\\nTake another big pan, add thrice the cup of '\n",
            " 'rice you use, and boil it. When it is boiling high, add the rice, salt and '\n",
            " 'jeera and mix well. After 7 minutes exact or when the rice is 80% done. '\n",
            " 'Switch off and drain the rice.\\\\r\\\\n\\\\r\\\\nNow, the layering starts. To the '\n",
            " 'lamb, pat and level it. Add the drained hot rice on the top of it. Garnish '\n",
            " 'with fried onions, ghee, mint, coriander leaves and saffron dissolved in '\n",
            " 'milk.\\\\r\\\\n\\\\r\\\\nCover the dish and bake in a 350f oven for 15 minutes or '\n",
            " 'till the cooked but not mushy. Or cook in the stove medium heat for 12 '\n",
            " 'minutes and lowest heat for 5 minutes. And switch off. Mix and serve '\n",
            " 'hot!\\\\r\\\\nNotes\\\\r\\\\n1. If you are cooking in oven, do make sure to cook in '\n",
            " 'a big oven safe pan and cover it tight and then keep in oven for the final '\n",
            " 'step.\\\\r\\\\n2. You can skip biryani masala if you don’t have and add just '\n",
            " 'garam masala (1 tsp and red chilli powder – 3 tsp instead of 1 tsp)\\\\r\\\\n3. '\n",
            " 'If it is spicy in the end, squeeze some lemon, it will reduce the heat and '\n",
            " \"enhance the flavors also.', 'ingredients': ['12 Cashew nuts', '½ tbsp Khus \"\n",
            " \"khus', '½ tbsp Cumin seeds', '3 sliced thinly Onions', '2 tsp Ginger garlic \"\n",
            " \"paste', '4 whole Garlic', 'Leaves Mint', 'Leaves Cilantro', '½ tsp dissolved \"\n",
            " \"in ½ cup warm milk Saffron', '2 tbsp Ghee', '2 Cups Basmati rice', '½ cup \"\n",
            " \"Full fat yogurt', '1 tbsp Cumin Seeds', '½ Bay leaf', '1 thin piece \"\n",
            " \"Cinnamon', '3 Cloves', '2 Cardamom', '1 lb Lamb', '1 tsp Red Chilli powder', \"\n",
            " \"'1 tbsp Biryani masala'], 'image': \"\n",
            " \"'https://www.themealdb.com/images/media/meals/xrttsx1487339558.jpg'}, \"\n",
            " \"'ingredients': ['12 Cashew nuts', '½ tbsp Khus khus', '½ tbsp Cumin seeds', \"\n",
            " \"'3 sliced thinly Onions', '2 tsp Ginger garlic paste', '4 whole Garlic', \"\n",
            " \"'Leaves Mint', 'Leaves Cilantro', '½ tsp dissolved in ½ cup warm milk \"\n",
            " \"Saffron', '2 tbsp Ghee', '2 Cups Basmati rice', '½ cup Full fat yogurt', '1 \"\n",
            " \"tbsp Cumin Seeds', '½ Bay leaf', '1 thin piece Cinnamon', '3 Cloves', '2 \"\n",
            " \"Cardamom', '1 lb Lamb', '1 tsp Red Chilli powder', '1 tbsp Biryani masala'], \"\n",
            " \"'available_ingredients': ['12 Cashew nuts', '½ tbsp Khus khus', '½ tbsp \"\n",
            " \"Cumin seeds', '3 sliced thinly Onions', '2 tsp Ginger garlic paste', '4 \"\n",
            " \"whole Garlic', 'Leaves Mint', 'Leaves Cilantro', '½ tsp dissolved in ½ cup \"\n",
            " \"warm milk Saffron', '2 tbsp Ghee', '2 Cups Basmati rice', '½ cup Full fat \"\n",
            " \"yogurt', '1 tbsp Cumin Seeds', '½ Bay leaf', '1 thin piece Cinnamon', '3 \"\n",
            " \"Cloves', '2 Cardamom', '1 lb Lamb', '1 tsp Red Chilli powder', '1 tbsp \"\n",
            " \"Biryani masala'], 'missing_ingredients': ['12 Cashew nuts', '½ tbsp Khus \"\n",
            " \"khus', '½ tbsp Cumin seeds', '3 sliced thinly Onions', '2 tsp Ginger garlic \"\n",
            " \"paste', '4 whole Garlic', 'Leaves Mint', 'Leaves Cilantro', '½ tsp dissolved \"\n",
            " \"in ½ cup warm milk Saffron', '2 tbsp Ghee', '2 Cups Basmati rice', '½ cup \"\n",
            " \"Full fat yogurt', '1 tbsp Cumin Seeds', '½ Bay leaf', '1 thin piece \"\n",
            " \"Cinnamon', '3 Cloves', '2 Cardamom', '1 lb Lamb', '1 tsp Red Chilli powder', \"\n",
            " \"'1 tbsp Biryani masala'], 'shopping_list': [], 'user_purchased': True, \"\n",
            " \"'youtube_tutorials': None, 'num_steps': 3}\")\n",
            "---FETCHING YOUTUBE VIDEO TUTORIALS---\n",
            "YouTube search results: ['https://www.youtube.com/watch?v=Yk6Hi2Z9BNM&pp=ygUhQ29va2luZyB0dXRvcmlhbCBmb3IgTGFtYiBCaXJ5YW5p', 'https://www.youtube.com/watch?v=Bc5Awe80nVc&pp=ygUhQ29va2luZyB0dXRvcmlhbCBmb3IgTGFtYiBCaXJ5YW5p']\n",
            "(\"Finished running: fetch_youtube_video_tutorials: {'user_query': 'biryani', \"\n",
            " \"'recipe_details': {'name': 'Lamb Biryani', 'category': 'Lamb', 'cuisine': \"\n",
            " \"'Indian', 'instructions': 'Grind the cashew, poppy seeds and cumin seeds \"\n",
            " 'into a smooth paste, using as little water as possible. Set aside. '\n",
            " '\\\\r\\\\n\\\\r\\\\nDeep fry the sliced onions when it is hot. Don’t overcrowd the '\n",
            " 'oil. When the onions turn light brown, remove from oil and drain on paper '\n",
            " 'towel. The fried onion will crisp up as it drains. Also fry the cashewnuts '\n",
            " 'till golden brown. Set aside.\\\\r\\\\n\\\\r\\\\nWash the rice and soak in water for '\n",
            " 'twenty minutes.\\\\r\\\\nMeanwhile, take a big wide pan, add oil in medium heat, '\n",
            " 'add the sliced onions, add the blended paste, to it add the green chillies, '\n",
            " 'ginger garlic paste and garlic and fry for a minute.\\\\r\\\\nThen add the '\n",
            " 'tomatoes and sauté them well till they are cooked and not '\n",
            " 'mushy.\\\\r\\\\n\\\\r\\\\nThen to it add the red chilli powder, biryani powder, '\n",
            " 'mint, coriander leaves and sauté them well.\\\\r\\\\nAdd the yogurt and mix '\n",
            " 'well. I always move the skillet away from the heat when adding yogurt which '\n",
            " 'prevents it from curdling.\\\\r\\\\n\\\\r\\\\nNow after returning the skillet back '\n",
            " 'to the stove, add the washed lamb and salt and ½ cup water and mix well. '\n",
            " 'Cook for 1 hour and cook it covered in medium low heat or put it in a '\n",
            " 'pressure cooker for 6 whistles. If the water is not drained totally, heat it '\n",
            " 'by keeping it open.\\\\r\\\\n\\\\r\\\\nTake another big pan, add thrice the cup of '\n",
            " 'rice you use, and boil it. When it is boiling high, add the rice, salt and '\n",
            " 'jeera and mix well. After 7 minutes exact or when the rice is 80% done. '\n",
            " 'Switch off and drain the rice.\\\\r\\\\n\\\\r\\\\nNow, the layering starts. To the '\n",
            " 'lamb, pat and level it. Add the drained hot rice on the top of it. Garnish '\n",
            " 'with fried onions, ghee, mint, coriander leaves and saffron dissolved in '\n",
            " 'milk.\\\\r\\\\n\\\\r\\\\nCover the dish and bake in a 350f oven for 15 minutes or '\n",
            " 'till the cooked but not mushy. Or cook in the stove medium heat for 12 '\n",
            " 'minutes and lowest heat for 5 minutes. And switch off. Mix and serve '\n",
            " 'hot!\\\\r\\\\nNotes\\\\r\\\\n1. If you are cooking in oven, do make sure to cook in '\n",
            " 'a big oven safe pan and cover it tight and then keep in oven for the final '\n",
            " 'step.\\\\r\\\\n2. You can skip biryani masala if you don’t have and add just '\n",
            " 'garam masala (1 tsp and red chilli powder – 3 tsp instead of 1 tsp)\\\\r\\\\n3. '\n",
            " 'If it is spicy in the end, squeeze some lemon, it will reduce the heat and '\n",
            " \"enhance the flavors also.', 'ingredients': ['12 Cashew nuts', '½ tbsp Khus \"\n",
            " \"khus', '½ tbsp Cumin seeds', '3 sliced thinly Onions', '2 tsp Ginger garlic \"\n",
            " \"paste', '4 whole Garlic', 'Leaves Mint', 'Leaves Cilantro', '½ tsp dissolved \"\n",
            " \"in ½ cup warm milk Saffron', '2 tbsp Ghee', '2 Cups Basmati rice', '½ cup \"\n",
            " \"Full fat yogurt', '1 tbsp Cumin Seeds', '½ Bay leaf', '1 thin piece \"\n",
            " \"Cinnamon', '3 Cloves', '2 Cardamom', '1 lb Lamb', '1 tsp Red Chilli powder', \"\n",
            " \"'1 tbsp Biryani masala'], 'image': \"\n",
            " \"'https://www.themealdb.com/images/media/meals/xrttsx1487339558.jpg'}, \"\n",
            " \"'ingredients': ['12 Cashew nuts', '½ tbsp Khus khus', '½ tbsp Cumin seeds', \"\n",
            " \"'3 sliced thinly Onions', '2 tsp Ginger garlic paste', '4 whole Garlic', \"\n",
            " \"'Leaves Mint', 'Leaves Cilantro', '½ tsp dissolved in ½ cup warm milk \"\n",
            " \"Saffron', '2 tbsp Ghee', '2 Cups Basmati rice', '½ cup Full fat yogurt', '1 \"\n",
            " \"tbsp Cumin Seeds', '½ Bay leaf', '1 thin piece Cinnamon', '3 Cloves', '2 \"\n",
            " \"Cardamom', '1 lb Lamb', '1 tsp Red Chilli powder', '1 tbsp Biryani masala'], \"\n",
            " \"'available_ingredients': ['12 Cashew nuts', '½ tbsp Khus khus', '½ tbsp \"\n",
            " \"Cumin seeds', '3 sliced thinly Onions', '2 tsp Ginger garlic paste', '4 \"\n",
            " \"whole Garlic', 'Leaves Mint', 'Leaves Cilantro', '½ tsp dissolved in ½ cup \"\n",
            " \"warm milk Saffron', '2 tbsp Ghee', '2 Cups Basmati rice', '½ cup Full fat \"\n",
            " \"yogurt', '1 tbsp Cumin Seeds', '½ Bay leaf', '1 thin piece Cinnamon', '3 \"\n",
            " \"Cloves', '2 Cardamom', '1 lb Lamb', '1 tsp Red Chilli powder', '1 tbsp \"\n",
            " \"Biryani masala'], 'missing_ingredients': ['12 Cashew nuts', '½ tbsp Khus \"\n",
            " \"khus', '½ tbsp Cumin seeds', '3 sliced thinly Onions', '2 tsp Ginger garlic \"\n",
            " \"paste', '4 whole Garlic', 'Leaves Mint', 'Leaves Cilantro', '½ tsp dissolved \"\n",
            " \"in ½ cup warm milk Saffron', '2 tbsp Ghee', '2 Cups Basmati rice', '½ cup \"\n",
            " \"Full fat yogurt', '1 tbsp Cumin Seeds', '½ Bay leaf', '1 thin piece \"\n",
            " \"Cinnamon', '3 Cloves', '2 Cardamom', '1 lb Lamb', '1 tsp Red Chilli powder', \"\n",
            " \"'1 tbsp Biryani masala'], 'shopping_list': [], 'user_purchased': True, \"\n",
            " \"'youtube_tutorials': \"\n",
            " '\"[\\'https://www.youtube.com/watch?v=Yk6Hi2Z9BNM&pp=ygUhQ29va2luZyB0dXRvcmlhbCBmb3IgTGFtYiBCaXJ5YW5p\\', '\n",
            " '\\'https://www.youtube.com/watch?v=Bc5Awe80nVc&pp=ygUhQ29va2luZyB0dXRvcmlhbCBmb3IgTGFtYiBCaXJ5YW5p\\']\", '\n",
            " \"'num_steps': 4}\")\n",
            "---ENDING WORKFLOW---\n",
            "Recipe Details: {'name': 'Lamb Biryani', 'category': 'Lamb', 'cuisine': 'Indian', 'instructions': 'Grind the cashew, poppy seeds and cumin seeds into a smooth paste, using as little water as possible. Set aside. \\r\\n\\r\\nDeep fry the sliced onions when it is hot. Don’t overcrowd the oil. When the onions turn light brown, remove from oil and drain on paper towel. The fried onion will crisp up as it drains. Also fry the cashewnuts till golden brown. Set aside.\\r\\n\\r\\nWash the rice and soak in water for twenty minutes.\\r\\nMeanwhile, take a big wide pan, add oil in medium heat, add the sliced onions, add the blended paste, to it add the green chillies, ginger garlic paste and garlic and fry for a minute.\\r\\nThen add the tomatoes and sauté them well till they are cooked and not mushy.\\r\\n\\r\\nThen to it add the red chilli powder, biryani powder, mint, coriander leaves and sauté them well.\\r\\nAdd the yogurt and mix well. I always move the skillet away from the heat when adding yogurt which prevents it from curdling.\\r\\n\\r\\nNow after returning the skillet back to the stove, add the washed lamb and salt and ½ cup water and mix well. Cook for 1 hour and cook it covered in medium low heat or put it in a pressure cooker for 6 whistles. If the water is not drained totally, heat it by keeping it open.\\r\\n\\r\\nTake another big pan, add thrice the cup of rice you use, and boil it. When it is boiling high, add the rice, salt and jeera and mix well. After 7 minutes exact or when the rice is 80% done. Switch off and drain the rice.\\r\\n\\r\\nNow, the layering starts. To the lamb, pat and level it. Add the drained hot rice on the top of it. Garnish with fried onions, ghee, mint, coriander leaves and saffron dissolved in milk.\\r\\n\\r\\nCover the dish and bake in a 350f oven for 15 minutes or till the cooked but not mushy. Or cook in the stove medium heat for 12 minutes and lowest heat for 5 minutes. And switch off. Mix and serve hot!\\r\\nNotes\\r\\n1. If you are cooking in oven, do make sure to cook in a big oven safe pan and cover it tight and then keep in oven for the final step.\\r\\n2. You can skip biryani masala if you don’t have and add just garam masala (1 tsp and red chilli powder – 3 tsp instead of 1 tsp)\\r\\n3. If it is spicy in the end, squeeze some lemon, it will reduce the heat and enhance the flavors also.', 'ingredients': ['12 Cashew nuts', '½ tbsp Khus khus', '½ tbsp Cumin seeds', '3 sliced thinly Onions', '2 tsp Ginger garlic paste', '4 whole Garlic', 'Leaves Mint', 'Leaves Cilantro', '½ tsp dissolved in ½ cup warm milk Saffron', '2 tbsp Ghee', '2 Cups Basmati rice', '½ cup Full fat yogurt', '1 tbsp Cumin Seeds', '½ Bay leaf', '1 thin piece Cinnamon', '3 Cloves', '2 Cardamom', '1 lb Lamb', '1 tsp Red Chilli powder', '1 tbsp Biryani masala'], 'image': 'https://www.themealdb.com/images/media/meals/xrttsx1487339558.jpg'}\n",
            "YouTube Tutorials: ['https://www.youtube.com/watch?v=Yk6Hi2Z9BNM&pp=ygUhQ29va2luZyB0dXRvcmlhbCBmb3IgTGFtYiBCaXJ5YW5p', 'https://www.youtube.com/watch?v=Bc5Awe80nVc&pp=ygUhQ29va2luZyB0dXRvcmlhbCBmb3IgTGFtYiBCaXJ5YW5p']\n",
            "(\"Finished running: end_node: {'user_query': 'biryani', 'recipe_details': \"\n",
            " \"{'name': 'Lamb Biryani', 'category': 'Lamb', 'cuisine': 'Indian', \"\n",
            " \"'instructions': 'Grind the cashew, poppy seeds and cumin seeds into a smooth \"\n",
            " 'paste, using as little water as possible. Set aside. \\\\r\\\\n\\\\r\\\\nDeep fry '\n",
            " 'the sliced onions when it is hot. Don’t overcrowd the oil. When the onions '\n",
            " 'turn light brown, remove from oil and drain on paper towel. The fried onion '\n",
            " 'will crisp up as it drains. Also fry the cashewnuts till golden brown. Set '\n",
            " 'aside.\\\\r\\\\n\\\\r\\\\nWash the rice and soak in water for twenty '\n",
            " 'minutes.\\\\r\\\\nMeanwhile, take a big wide pan, add oil in medium heat, add '\n",
            " 'the sliced onions, add the blended paste, to it add the green chillies, '\n",
            " 'ginger garlic paste and garlic and fry for a minute.\\\\r\\\\nThen add the '\n",
            " 'tomatoes and sauté them well till they are cooked and not '\n",
            " 'mushy.\\\\r\\\\n\\\\r\\\\nThen to it add the red chilli powder, biryani powder, '\n",
            " 'mint, coriander leaves and sauté them well.\\\\r\\\\nAdd the yogurt and mix '\n",
            " 'well. I always move the skillet away from the heat when adding yogurt which '\n",
            " 'prevents it from curdling.\\\\r\\\\n\\\\r\\\\nNow after returning the skillet back '\n",
            " 'to the stove, add the washed lamb and salt and ½ cup water and mix well. '\n",
            " 'Cook for 1 hour and cook it covered in medium low heat or put it in a '\n",
            " 'pressure cooker for 6 whistles. If the water is not drained totally, heat it '\n",
            " 'by keeping it open.\\\\r\\\\n\\\\r\\\\nTake another big pan, add thrice the cup of '\n",
            " 'rice you use, and boil it. When it is boiling high, add the rice, salt and '\n",
            " 'jeera and mix well. After 7 minutes exact or when the rice is 80% done. '\n",
            " 'Switch off and drain the rice.\\\\r\\\\n\\\\r\\\\nNow, the layering starts. To the '\n",
            " 'lamb, pat and level it. Add the drained hot rice on the top of it. Garnish '\n",
            " 'with fried onions, ghee, mint, coriander leaves and saffron dissolved in '\n",
            " 'milk.\\\\r\\\\n\\\\r\\\\nCover the dish and bake in a 350f oven for 15 minutes or '\n",
            " 'till the cooked but not mushy. Or cook in the stove medium heat for 12 '\n",
            " 'minutes and lowest heat for 5 minutes. And switch off. Mix and serve '\n",
            " 'hot!\\\\r\\\\nNotes\\\\r\\\\n1. If you are cooking in oven, do make sure to cook in '\n",
            " 'a big oven safe pan and cover it tight and then keep in oven for the final '\n",
            " 'step.\\\\r\\\\n2. You can skip biryani masala if you don’t have and add just '\n",
            " 'garam masala (1 tsp and red chilli powder – 3 tsp instead of 1 tsp)\\\\r\\\\n3. '\n",
            " 'If it is spicy in the end, squeeze some lemon, it will reduce the heat and '\n",
            " \"enhance the flavors also.', 'ingredients': ['12 Cashew nuts', '½ tbsp Khus \"\n",
            " \"khus', '½ tbsp Cumin seeds', '3 sliced thinly Onions', '2 tsp Ginger garlic \"\n",
            " \"paste', '4 whole Garlic', 'Leaves Mint', 'Leaves Cilantro', '½ tsp dissolved \"\n",
            " \"in ½ cup warm milk Saffron', '2 tbsp Ghee', '2 Cups Basmati rice', '½ cup \"\n",
            " \"Full fat yogurt', '1 tbsp Cumin Seeds', '½ Bay leaf', '1 thin piece \"\n",
            " \"Cinnamon', '3 Cloves', '2 Cardamom', '1 lb Lamb', '1 tsp Red Chilli powder', \"\n",
            " \"'1 tbsp Biryani masala'], 'image': \"\n",
            " \"'https://www.themealdb.com/images/media/meals/xrttsx1487339558.jpg'}, \"\n",
            " \"'ingredients': ['12 Cashew nuts', '½ tbsp Khus khus', '½ tbsp Cumin seeds', \"\n",
            " \"'3 sliced thinly Onions', '2 tsp Ginger garlic paste', '4 whole Garlic', \"\n",
            " \"'Leaves Mint', 'Leaves Cilantro', '½ tsp dissolved in ½ cup warm milk \"\n",
            " \"Saffron', '2 tbsp Ghee', '2 Cups Basmati rice', '½ cup Full fat yogurt', '1 \"\n",
            " \"tbsp Cumin Seeds', '½ Bay leaf', '1 thin piece Cinnamon', '3 Cloves', '2 \"\n",
            " \"Cardamom', '1 lb Lamb', '1 tsp Red Chilli powder', '1 tbsp Biryani masala'], \"\n",
            " \"'available_ingredients': ['12 Cashew nuts', '½ tbsp Khus khus', '½ tbsp \"\n",
            " \"Cumin seeds', '3 sliced thinly Onions', '2 tsp Ginger garlic paste', '4 \"\n",
            " \"whole Garlic', 'Leaves Mint', 'Leaves Cilantro', '½ tsp dissolved in ½ cup \"\n",
            " \"warm milk Saffron', '2 tbsp Ghee', '2 Cups Basmati rice', '½ cup Full fat \"\n",
            " \"yogurt', '1 tbsp Cumin Seeds', '½ Bay leaf', '1 thin piece Cinnamon', '3 \"\n",
            " \"Cloves', '2 Cardamom', '1 lb Lamb', '1 tsp Red Chilli powder', '1 tbsp \"\n",
            " \"Biryani masala'], 'missing_ingredients': ['12 Cashew nuts', '½ tbsp Khus \"\n",
            " \"khus', '½ tbsp Cumin seeds', '3 sliced thinly Onions', '2 tsp Ginger garlic \"\n",
            " \"paste', '4 whole Garlic', 'Leaves Mint', 'Leaves Cilantro', '½ tsp dissolved \"\n",
            " \"in ½ cup warm milk Saffron', '2 tbsp Ghee', '2 Cups Basmati rice', '½ cup \"\n",
            " \"Full fat yogurt', '1 tbsp Cumin Seeds', '½ Bay leaf', '1 thin piece \"\n",
            " \"Cinnamon', '3 Cloves', '2 Cardamom', '1 lb Lamb', '1 tsp Red Chilli powder', \"\n",
            " \"'1 tbsp Biryani masala'], 'shopping_list': [], 'user_purchased': True, \"\n",
            " \"'youtube_tutorials': \"\n",
            " '\"[\\'https://www.youtube.com/watch?v=Yk6Hi2Z9BNM&pp=ygUhQ29va2luZyB0dXRvcmlhbCBmb3IgTGFtYiBCaXJ5YW5p\\', '\n",
            " '\\'https://www.youtube.com/watch?v=Bc5Awe80nVc&pp=ygUhQ29va2luZyB0dXRvcmlhbCBmb3IgTGFtYiBCaXJ5YW5p\\']\", '\n",
            " \"'num_steps': 5}\")\n"
          ]
        }
      ]
    }
  ]
}